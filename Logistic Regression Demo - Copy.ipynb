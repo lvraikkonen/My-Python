{
 "metadata": {
  "name": "",
  "signature": "sha256:81783f080b47ccde31e31a4f6066a7f3cfa7e416cd4bc9f60c8e7444ec46d75b"
 },
 "nbformat": 3,
 "nbformat_minor": 0,
 "worksheets": [
  {
   "cells": [
    {
     "cell_type": "heading",
     "level": 1,
     "metadata": {},
     "source": [
      "Background"
     ]
    },
    {
     "cell_type": "markdown",
     "metadata": {},
     "source": [
      "The [affairs dataset](http://statsmodels.sourceforge.net/stable/datasets/generated/fair.html) that comes with [Statsmodels](http://statsmodels.sourceforge.net/). It was derived from a survey of women in 1974 by Redbook magazine, in which married women were asked about their participation in extramarital affairs. More information about the study is available in a [1978 paper](http://fairmodel.econ.yale.edu/rayfair/pdf/1978a200.pdf) from the Journal of Political Economy."
     ]
    },
    {
     "cell_type": "heading",
     "level": 2,
     "metadata": {},
     "source": [
      "Dataset"
     ]
    },
    {
     "cell_type": "markdown",
     "metadata": {},
     "source": [
      "The dataset contains 6366 observations of 9 variables:\n",
      "\n",
      "* `rate_marriage`: woman's rating of her marriage (1 = very poor, 5 = very good)\n",
      "* `age`: woman's age\n",
      "* `yrs_married`: number of years married\n",
      "* `children`: number of children\n",
      "* `religious`: woman's rating of how religious she is (1 = not religious, 4 = strongly religious)\n",
      "* `educ`: level of education (9 = grade school, 12 = high school, 14 = some college, 16 = college graduate, 17 = some graduate school, 20 = advanced degree)\n",
      "* `occupation`: woman's occupation (1 = student, 2 = farming/semi-skilled/unskilled, 3 = \"white collar\", 4 = teacher/nurse/writer/technician/skilled, 5 = managerial/business, 6 = professional with advanced degree)\n",
      "* `occupation_husb`: husband's occupation (same coding as above)\n",
      "* `affairs`: time spent in extra-marital affairs"
     ]
    },
    {
     "cell_type": "heading",
     "level": 1,
     "metadata": {},
     "source": [
      "Import modules"
     ]
    },
    {
     "cell_type": "markdown",
     "metadata": {},
     "source": [
      "Here we use logistic regression in Python with the [scikit-learn module](http://scikit-learn.org/) library."
     ]
    },
    {
     "cell_type": "markdown",
     "metadata": {},
     "source": [
      "![sci-kit learn logo](http://kldavenport.com/scikit-learn-logo.png)"
     ]
    },
    {
     "cell_type": "code",
     "collapsed": false,
     "input": [
      "import numpy as np\n",
      "import pandas as pd\n",
      "import statsmodels.api as sm\n",
      "import matplotlib.pyplot as plt\n",
      "from patsy import dmatrices\n",
      "from sklearn.linear_model import LogisticRegression\n",
      "from sklearn.cross_validation import train_test_split\n",
      "from sklearn import metrics\n",
      "from sklearn.cross_validation import cross_val_score"
     ],
     "language": "python",
     "metadata": {},
     "outputs": [],
     "prompt_number": 1
    },
    {
     "cell_type": "heading",
     "level": 1,
     "metadata": {},
     "source": [
      "Data Pre-processing"
     ]
    },
    {
     "cell_type": "code",
     "collapsed": false,
     "input": [
      "# load dataset\n",
      "data = sm.datasets.fair.load_pandas().data\n",
      "\n",
      "# add hasFair column: 1 for having more than one affairs, 0 for no fair\n",
      "data['hasAffair'] = (data.affairs > 0).astype(int)"
     ],
     "language": "python",
     "metadata": {},
     "outputs": []
    },
    {
     "cell_type": "heading",
     "level": 1,
     "metadata": {},
     "source": [
      "Data Exploration"
     ]
    },
    {
     "cell_type": "code",
     "collapsed": false,
     "input": [
      "data.describe()"
     ],
     "language": "python",
     "metadata": {},
     "outputs": []
    },
    {
     "cell_type": "code",
     "collapsed": false,
     "input": [
      "data[data.affairs > 0].count()[-2]"
     ],
     "language": "python",
     "metadata": {},
     "outputs": []
    },
    {
     "cell_type": "markdown",
     "metadata": {},
     "source": [
      "That means in our dataset, 2053 women in 6366 total(32.2%) has extramarital affairs in their marriage."
     ]
    },
    {
     "cell_type": "code",
     "collapsed": false,
     "input": [
      "data.groupby('hasAffair').mean()"
     ],
     "language": "python",
     "metadata": {},
     "outputs": []
    },
    {
     "cell_type": "markdown",
     "metadata": {},
     "source": [
      "We can see that on average, women who have affairs rate their marriages lower, which is to be expected"
     ]
    },
    {
     "cell_type": "code",
     "collapsed": false,
     "input": [
      "data.groupby('rate_marriage').mean()"
     ],
     "language": "python",
     "metadata": {},
     "outputs": []
    },
    {
     "cell_type": "markdown",
     "metadata": {},
     "source": [
      "age, yrs_married, and children appears to correlate with a declining marriage rating"
     ]
    },
    {
     "cell_type": "heading",
     "level": 2,
     "metadata": {},
     "source": [
      "Data Visualization"
     ]
    },
    {
     "cell_type": "code",
     "collapsed": false,
     "input": [
      "%matplotlib inline\n",
      "\n",
      "# Histogram of Education\n",
      "data.educ.hist()\n",
      "plt.title('Histogram of Education')\n",
      "plt.xlabel('Education Level')\n",
      "plt.ylabel('Frequency')"
     ],
     "language": "python",
     "metadata": {},
     "outputs": []
    },
    {
     "cell_type": "code",
     "collapsed": false,
     "input": [
      "# histogram of marriage rating\n",
      "data.rate_marriage.hist()\n",
      "plt.title('Histogram of Marriage Rating')\n",
      "plt.xlabel('Marriage Rating')\n",
      "plt.ylabel('Frequency')"
     ],
     "language": "python",
     "metadata": {},
     "outputs": []
    },
    {
     "cell_type": "code",
     "collapsed": false,
     "input": [
      "# barplot of marriage rating grouped by affair (True or False)\n",
      "pd.crosstab(data.rate_marriage, data.hasAffair.astype(bool)).plot(kind='bar')\n",
      "plt.title('Marriage Rating Distribution by Affair Status')\n",
      "plt.xlabel('Marriage Rating')\n",
      "plt.ylabel('Frequency')"
     ],
     "language": "python",
     "metadata": {},
     "outputs": []
    },
    {
     "cell_type": "heading",
     "level": 1,
     "metadata": {},
     "source": [
      "Prepare Data for Logistic Regression"
     ]
    },
    {
     "cell_type": "code",
     "collapsed": false,
     "input": [
      "y, X = dmatrices('hasAffair ~ rate_marriage + age + yrs_married + children + \\\n",
      "                  religious + educ + C(occupation) + C(occupation_husb)',\n",
      "                  data, return_type=\"dataframe\")\n",
      "\n",
      "X = X.rename(columns = {'C(occupation)[T.2.0]':'occ_2',\n",
      "                        'C(occupation)[T.3.0]':'occ_3',\n",
      "                        'C(occupation)[T.4.0]':'occ_4',\n",
      "                        'C(occupation)[T.5.0]':'occ_5',\n",
      "                        'C(occupation)[T.6.0]':'occ_6',\n",
      "                        'C(occupation_husb)[T.2.0]':'occ_husb_2',\n",
      "                        'C(occupation_husb)[T.3.0]':'occ_husb_3',\n",
      "                        'C(occupation_husb)[T.4.0]':'occ_husb_4',\n",
      "                        'C(occupation_husb)[T.5.0]':'occ_husb_5',\n",
      "                        'C(occupation_husb)[T.6.0]':'occ_husb_6'})\n",
      "# flatten y into a 1-D array\n",
      "y = np.ravel(y)"
     ],
     "language": "python",
     "metadata": {},
     "outputs": []
    },
    {
     "cell_type": "heading",
     "level": 1,
     "metadata": {},
     "source": [
      "Logistic Regression Algorithm"
     ]
    },
    {
     "cell_type": "markdown",
     "metadata": {},
     "source": [
      "Sigmoid function:\n",
      "$$h_\\theta(x) = g(\\theta^Tx): g(z) = \\frac{1}{1+e^{-z}}$$\n",
      "\n",
      "The logistic regression cost function including regularization (last term) is:\n",
      "\n",
      "$$J(\\theta) = \\frac{1}{m}\\sum\\limits_{i=1}^{m} [-y^{(i)}log(h_\\theta(x^{(i)})-(1 - y^{(i)})log(1 - h_\\theta(x^{(i)}))]+\\frac{\\lambda}{2m}\\sum\\limits_{j=1}^{n}\\theta^2_j$$\n",
      "\n",
      "The gradient of the cost including regularization is:\n",
      "\n",
      "$$\\frac{\\partial{J(\\theta)}}{\\partial{\\theta_j}} = \\frac{1}{m}\\sum\\limits_{i=1}^{m} (h_\\theta(x^{(i)}) - y^{(i)})x_j^{(i)}     \\qquad \\qquad \\qquad   for \\,\\, j=0 $$\n",
      "\n",
      "$$\\frac{\\partial{J(\\theta)}}{\\partial{\\theta_j}} = (\\frac{1}{m}\\sum\\limits_{i=1}^{m} (h_\\theta(x^{(i)}) - y^{(i)})x_j^{(i)}) + \\frac{\\lambda}{m}\\theta_j    \\qquad    for \\,\\, j \\geq 1 $$"
     ]
    },
    {
     "cell_type": "code",
     "collapsed": false,
     "input": [
      "# instantiate a logistic regression model, and fit with X and y\n",
      "model = LogisticRegression()\n",
      "model = model.fit(X, y)\n",
      "\n",
      "# check the accuracy on the training set\n",
      "model.score(X, y)"
     ],
     "language": "python",
     "metadata": {},
     "outputs": []
    },
    {
     "cell_type": "code",
     "collapsed": false,
     "input": [
      "# what percentage had affairs?\n",
      "y.mean()"
     ],
     "language": "python",
     "metadata": {},
     "outputs": []
    },
    {
     "cell_type": "markdown",
     "metadata": {},
     "source": [
      "Only 32% of the women had affairs, which means that you could obtain 68% accuracy by always predicting \"no\""
     ]
    },
    {
     "cell_type": "heading",
     "level": 1,
     "metadata": {},
     "source": [
      "Model Evaluation Using a Validation Set"
     ]
    },
    {
     "cell_type": "markdown",
     "metadata": {},
     "source": [
      "So far, we have trained and tested on the same set. Let's instead split the data into a training set and a testing set."
     ]
    },
    {
     "cell_type": "code",
     "collapsed": false,
     "input": [
      "# evaluate the model by splitting into train and test sets\n",
      "X_train, X_test, y_train, y_test = train_test_split(X, y, test_size=0.3, random_state=0)\n",
      "model2 = LogisticRegression()\n",
      "model2.fit(X_train, y_train)"
     ],
     "language": "python",
     "metadata": {},
     "outputs": []
    },
    {
     "cell_type": "markdown",
     "metadata": {},
     "source": [
      "We now need to predict class labels for the test set. We will also generate the class probabilities, just to take a look."
     ]
    },
    {
     "cell_type": "code",
     "collapsed": false,
     "input": [
      "# predict class labels for the test set\n",
      "predicted = model2.predict(X_test)\n",
      "print predicted"
     ],
     "language": "python",
     "metadata": {},
     "outputs": []
    },
    {
     "cell_type": "heading",
     "level": 2,
     "metadata": {},
     "source": [
      "Confusion Matrix"
     ]
    },
    {
     "cell_type": "code",
     "collapsed": false,
     "input": [
      "print metrics.confusion_matrix(y_test, predicted)"
     ],
     "language": "python",
     "metadata": {},
     "outputs": []
    },
    {
     "cell_type": "code",
     "collapsed": false,
     "input": [
      "print metrics.accuracy_score(y_test, predicted)\n",
      "print metrics.precision_score(y_test, predicted)\n",
      "print metrics.recall_score(y_test, predicted)\n",
      "print metrics.f1_score(y_test, predicted)"
     ],
     "language": "python",
     "metadata": {},
     "outputs": []
    },
    {
     "cell_type": "code",
     "collapsed": false,
     "input": [
      "print metrics.classification_report(y_test, predicted)"
     ],
     "language": "python",
     "metadata": {},
     "outputs": []
    },
    {
     "cell_type": "markdown",
     "metadata": {},
     "source": [
      "The accuracy is 73%"
     ]
    },
    {
     "cell_type": "heading",
     "level": 1,
     "metadata": {},
     "source": [
      "Predicting the Probability of an Affair"
     ]
    },
    {
     "cell_type": "markdown",
     "metadata": {},
     "source": [
      "Just for fun, let's predict the probability of an affair for a random woman not present in the dataset. She's a 25-year-old teacher who graduated college, has been married for 3 years, has 1 child, rates herself as strongly religious, rates her marriage as fair, and her husband is a farmer."
     ]
    },
    {
     "cell_type": "code",
     "collapsed": false,
     "input": [
      "model2.predict_proba(np.array([1, 0, 0, 1, 0, 0, 1, 0, 0, 0, 0, 3, 25, 3, 1, 4,\n",
      "                              16]))"
     ],
     "language": "python",
     "metadata": {},
     "outputs": []
    },
    {
     "cell_type": "heading",
     "level": 1,
     "metadata": {},
     "source": [
      "Improve the model"
     ]
    },
    {
     "cell_type": "markdown",
     "metadata": {},
     "source": [
      "There are many different ways could be tried in order to improve the model:\n",
      "* create features\n",
      "* removing features\n",
      "* regularization techniques\n",
      "* using a non-linear model"
     ]
    }
   ],
   "metadata": {}
  }
 ]
}