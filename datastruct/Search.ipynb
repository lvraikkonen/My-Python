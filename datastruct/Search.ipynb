{
 "metadata": {
  "name": "",
  "signature": "sha256:4935300c93c8b5081e2a82e904df3bc9d5fc7da5ce439316d811d1c4869512d3"
 },
 "nbformat": 3,
 "nbformat_minor": 0,
 "worksheets": [
  {
   "cells": [
    {
     "cell_type": "heading",
     "level": 1,
     "metadata": {},
     "source": [
      "\u987a\u5e8f\u67e5\u627e Sequential Search"
     ]
    },
    {
     "cell_type": "markdown",
     "metadata": {},
     "source": [
      "\u5206\u4e3a\u4e24\u79cd\u60c5\u51b5\uff1a\n",
      "- \u5728\u65e0\u5e8f\u5217\u8868\u4e2d\u641c\u7d22\n",
      "- \u5728\u6709\u5e8f\u5217\u8868\u4e2d\u641c\u7d22"
     ]
    },
    {
     "cell_type": "heading",
     "level": 2,
     "metadata": {},
     "source": [
      "\u65e0\u5e8f\u5217\u8868\u4e2d\u641c\u7d22"
     ]
    },
    {
     "cell_type": "markdown",
     "metadata": {},
     "source": [
      "\u590d\u6742\u5ea6\u4e3aO(n) \u5728\u627e\u5230\u60c5\u51b5\u4e0b\uff0c\u6700\u597d\u4e3aO(1);\u672a\u627e\u5230\u60c5\u51b5\u4e0b\uff0c\u6700\u597d\u4e3aO(n)"
     ]
    },
    {
     "cell_type": "code",
     "collapsed": false,
     "input": [
      "def sequential_search(alist, item):\n",
      "    pos = 0\n",
      "    found = False\n",
      "    \n",
      "    while pos < len(alist) and not found:\n",
      "        if alist[pos] == item:\n",
      "            found = True\n",
      "        else:\n",
      "            pos += 1\n",
      "    return found\n",
      "\n",
      "l = [1,3,5,7,9]\n",
      "print sequential_search(l,4)"
     ],
     "language": "python",
     "metadata": {},
     "outputs": [
      {
       "output_type": "stream",
       "stream": "stdout",
       "text": [
        "False\n"
       ]
      }
     ],
     "prompt_number": 4
    },
    {
     "cell_type": "heading",
     "level": 2,
     "metadata": {},
     "source": [
      "\u6709\u5e8f\u5217\u8868\u4e2d\u641c\u7d22"
     ]
    },
    {
     "cell_type": "code",
     "collapsed": false,
     "input": [
      "def order_sequential_search(alist, item):\n",
      "    alist.sort()\n",
      "    pos = 0\n",
      "    found = False\n",
      "    stop = False\n",
      "    while pos < len(alist) and not found and not stop:\n",
      "        if item == alist[pos]:\n",
      "            found = True\n",
      "        else:\n",
      "            if alist[pos] > item:\n",
      "                stop = True\n",
      "            else:\n",
      "                pos += 1\n",
      "    return found\n",
      "\n",
      "l = [1,3,5,7,9]\n",
      "print order_sequential_search(l,4)"
     ],
     "language": "python",
     "metadata": {},
     "outputs": [
      {
       "output_type": "stream",
       "stream": "stdout",
       "text": [
        "False\n"
       ]
      }
     ],
     "prompt_number": 5
    },
    {
     "cell_type": "heading",
     "level": 1,
     "metadata": {},
     "source": [
      "\u4e8c\u5206\u67e5\u627e Binary Search"
     ]
    },
    {
     "cell_type": "markdown",
     "metadata": {},
     "source": [
      "\u524d\u63d0\uff1a\u6709\u5e8f\u5217\u8868\n",
      "- \u5206\u6cbb\u6cd5\uff1a\u9996\u5148\u548c\u4e2d\u95f4\u503c\u5bf9\u6bd4\uff0c\u6ca1\u627e\u5230\u5982\u679c\u6bd4\u4e2d\u95f4\u503c\u5c0f\uff0c\u5728\u5de6\u4fa7\u7ee7\u7eed\u4e8c\u5206\u67e5\u627e"
     ]
    },
    {
     "cell_type": "code",
     "collapsed": false,
     "input": [
      "def binary_search(alist, item):\n",
      "    alist.sort()\n",
      "    first, last = 0, len(alist)-1\n",
      "    found = False\n",
      "    \n",
      "    while first <= last and not found:\n",
      "        mid = (first + last) // 2\n",
      "        if alist[mid] == item:\n",
      "            found = True\n",
      "        else:\n",
      "            if item < alist[mid]:\n",
      "                # find on left\n",
      "                last = mid - 1\n",
      "            else:\n",
      "                # find on right\n",
      "                first = mid + 1\n",
      "    return found\n",
      "\n",
      "l = range(10,0,-1)\n",
      "print binary_search(l,11)"
     ],
     "language": "python",
     "metadata": {},
     "outputs": [
      {
       "output_type": "stream",
       "stream": "stdout",
       "text": [
        "False\n"
       ]
      }
     ],
     "prompt_number": 10
    },
    {
     "cell_type": "heading",
     "level": 2,
     "metadata": {},
     "source": [
      "\u9012\u5f52\u5b9e\u73b0 \u4e8c\u5206\u67e5\u627e"
     ]
    },
    {
     "cell_type": "code",
     "collapsed": false,
     "input": [
      "def binary_search_recursive(alist, item):\n",
      "    alist.sort()\n",
      "    if len(alist) == 0:\n",
      "        return False\n",
      "    else:\n",
      "        mid = len(alist) // 2\n",
      "        print alist[mid]\n",
      "        if alist[mid] == item:\n",
      "            return True\n",
      "        else:\n",
      "            if item < alist[mid]:\n",
      "                # print alist[:mid]\n",
      "                return binary_search_recursive(alist[:mid], item)\n",
      "            else:\n",
      "                # print alist[mid+1:]\n",
      "                return binary_search_recursive(alist[mid+1:], item)\n",
      "\n",
      "l = [3, 5, 6, 8, 11, 12, 14, 15, 17, 18]\n",
      "print binary_search_recursive(l, 16)"
     ],
     "language": "python",
     "metadata": {},
     "outputs": [
      {
       "output_type": "stream",
       "stream": "stdout",
       "text": [
        "12\n",
        "17\n",
        "15\n",
        "False\n"
       ]
      }
     ],
     "prompt_number": 1
    },
    {
     "cell_type": "heading",
     "level": 1,
     "metadata": {},
     "source": [
      "Hash \u67e5\u627e"
     ]
    },
    {
     "cell_type": "markdown",
     "metadata": {},
     "source": [
      "hash\u51fd\u6570\u3001\u89e3\u51b3\u51b2\u7a81\u95ee\u9898\u3002\u3002\u3002"
     ]
    },
    {
     "cell_type": "code",
     "collapsed": false,
     "input": [],
     "language": "python",
     "metadata": {},
     "outputs": []
    }
   ],
   "metadata": {}
  }
 ]
}