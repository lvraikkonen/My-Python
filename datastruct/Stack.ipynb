{
 "metadata": {
  "name": "",
  "signature": "sha256:dd0409d095c351b64f3df0bdb8a5140ee59d5914a1decddb14a402ebfa0ebe6c"
 },
 "nbformat": 3,
 "nbformat_minor": 0,
 "worksheets": [
  {
   "cells": [
    {
     "cell_type": "heading",
     "level": 1,
     "metadata": {},
     "source": [
      "Stack implement & stack usages"
     ]
    },
    {
     "cell_type": "markdown",
     "metadata": {},
     "source": [
      "Stack follows \"First In, Last Out\""
     ]
    },
    {
     "cell_type": "heading",
     "level": 2,
     "metadata": {},
     "source": [
      "Stack ADT contains following methods:"
     ]
    },
    {
     "cell_type": "code",
     "collapsed": false,
     "input": [
      "class my_stack:\n",
      "    \n",
      "    def __init__(self):\n",
      "        self.data = []\n",
      "    \n",
      "    def push(self, item):\n",
      "        self.data.append(item)\n",
      "    \n",
      "    def pop(self):\n",
      "        if self.data:\n",
      "            return self.data.pop()\n",
      "    \n",
      "    def peek(self):\n",
      "        return self.data[-1]\n",
      "    \n",
      "    def isEmpty(self):\n",
      "        return self.data == []\n",
      "    \n",
      "    def size(self):\n",
      "        return len(self.data)"
     ],
     "language": "python",
     "metadata": {},
     "outputs": [],
     "prompt_number": 13
    },
    {
     "cell_type": "code",
     "collapsed": false,
     "input": [
      "s = my_stack()\n",
      "s.push(3)\n",
      "s.push(2)\n",
      "s.push(5)\n",
      "s.pop()\n",
      "s.peek()\n",
      "s.data"
     ],
     "language": "python",
     "metadata": {},
     "outputs": [
      {
       "metadata": {},
       "output_type": "pyout",
       "prompt_number": 14,
       "text": [
        "[3, 2]"
       ]
      }
     ],
     "prompt_number": 14
    },
    {
     "cell_type": "heading",
     "level": 2,
     "metadata": {},
     "source": [
      "Example of using Stack"
     ]
    },
    {
     "cell_type": "heading",
     "level": 3,
     "metadata": {},
     "source": [
      "Reverse a string"
     ]
    },
    {
     "cell_type": "code",
     "collapsed": false,
     "input": [
      "def reverse_str(str):\n",
      "    stack = []\n",
      "    for c in str:\n",
      "        stack.append(c)\n",
      "    result = ''\n",
      "    while len(stack):\n",
      "        result += stack.pop()\n",
      "    return result\n",
      "\n",
      "str = 'Hello'\n",
      "reverse_str(str)"
     ],
     "language": "python",
     "metadata": {},
     "outputs": [
      {
       "metadata": {},
       "output_type": "pyout",
       "prompt_number": 3,
       "text": [
        "'olleH'"
       ]
      }
     ],
     "prompt_number": 3
    },
    {
     "cell_type": "heading",
     "level": 3,
     "metadata": {},
     "source": [
      "Valid Parentheses"
     ]
    },
    {
     "cell_type": "code",
     "collapsed": false,
     "input": [
      "def validParentheses(str):\n",
      "    push_set = ['(','{','[']\n",
      "    pop_set = [')','}',']']\n",
      "    pair = dict(zip(push_set,pop_set))\n",
      "    \n",
      "    stack = []\n",
      "    for element in str:\n",
      "        if element in push_set:\n",
      "            stack.append(pair[element])\n",
      "        elif element in pop_set:\n",
      "            if not stack or element != stack.pop():\n",
      "                return False\n",
      "    if stack:\n",
      "        return False\n",
      "    else:\n",
      "        return True\n",
      "\n",
      "s = '()234ef{[defq]'\n",
      "validParentheses(s)"
     ],
     "language": "python",
     "metadata": {},
     "outputs": [
      {
       "metadata": {},
       "output_type": "pyout",
       "prompt_number": 5,
       "text": [
        "False"
       ]
      }
     ],
     "prompt_number": 5
    },
    {
     "cell_type": "heading",
     "level": 3,
     "metadata": {},
     "source": [
      "Min Stack: O(1) return the min element of stack"
     ]
    },
    {
     "cell_type": "code",
     "collapsed": false,
     "input": [
      "class MinStack:\n",
      "    def __init__(self):\n",
      "        self.data = []\n",
      "        self.min_data = []\n",
      "    \n",
      "    def push(self,item):\n",
      "        self.data.append(item)\n",
      "        if not self.min_data or item <= self.min_data[-1]:\n",
      "            self.min_data.append(item)\n",
      "    \n",
      "    def pop(self):\n",
      "        item = self.data.pop()\n",
      "        if self.min_data and item == self.min_data[-1]:\n",
      "            self.min_data.pop()\n",
      "    \n",
      "    def size(self):\n",
      "        return len(self.data)\n",
      "    \n",
      "    def top(self):\n",
      "        if self.size() > 0:\n",
      "            return self.data[-1]\n",
      "    \n",
      "    def getMin(self):\n",
      "        if len(self.min_data)>0:\n",
      "            return self.min_data[-1]\n",
      "ms = MinStack()\n",
      "ms.push(2)\n",
      "ms.push(0)\n",
      "ms.push(0)\n",
      "ms.push(3)\n",
      "ms.min_data"
     ],
     "language": "python",
     "metadata": {},
     "outputs": [
      {
       "metadata": {},
       "output_type": "pyout",
       "prompt_number": 10,
       "text": [
        "[2, 0, 0]"
       ]
      }
     ],
     "prompt_number": 10
    }
   ],
   "metadata": {}
  }
 ]
}