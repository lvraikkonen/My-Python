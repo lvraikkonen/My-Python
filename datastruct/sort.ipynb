{
 "metadata": {
  "name": "",
  "signature": "sha256:c702ff701e42d91a34f7660f94b2c5d04633b188972841c488ecfec1088e8cb1"
 },
 "nbformat": 3,
 "nbformat_minor": 0,
 "worksheets": [
  {
   "cells": [
    {
     "cell_type": "heading",
     "level": 2,
     "metadata": {},
     "source": [
      "Bubble Sort:"
     ]
    },
    {
     "cell_type": "code",
     "collapsed": false,
     "input": [
      "def bubble_sort(list):\n",
      "    for i in range(0,len(list)):\n",
      "        for j in range(i,len(list)):\n",
      "            if list[i] > list[j]:\n",
      "                list[i],list[j] = list[j],list[i]\n",
      "    return list\n",
      "\n",
      "l = range(10,0,-1)\n",
      "bubble_sort(l)"
     ],
     "language": "python",
     "metadata": {},
     "outputs": [
      {
       "metadata": {},
       "output_type": "pyout",
       "prompt_number": 1,
       "text": [
        "[1, 2, 3, 4, 5, 6, 7, 8, 9, 10]"
       ]
      }
     ],
     "prompt_number": 1
    },
    {
     "cell_type": "heading",
     "level": 2,
     "metadata": {},
     "source": [
      "Select Sort:"
     ]
    },
    {
     "cell_type": "code",
     "collapsed": false,
     "input": [
      "def select_sort(list):\n",
      "    for i in range(0,len(list)):\n",
      "        minindex = i\n",
      "        for j in range(i,len(list)):\n",
      "            if list[minindex] > list[j]:\n",
      "                minindex = j\n",
      "        list[i],list[minindex] = list[minindex],list[i]\n",
      "    return list\n",
      "\n",
      "l = range(10,0,-1)\n",
      "select_sort(l)"
     ],
     "language": "python",
     "metadata": {},
     "outputs": [
      {
       "metadata": {},
       "output_type": "pyout",
       "prompt_number": 2,
       "text": [
        "[1, 2, 3, 4, 5, 6, 7, 8, 9, 10]"
       ]
      }
     ],
     "prompt_number": 2
    },
    {
     "cell_type": "heading",
     "level": 2,
     "metadata": {},
     "source": [
      "Insert Sort:"
     ]
    },
    {
     "cell_type": "code",
     "collapsed": false,
     "input": [
      "def insert_sort(list):\n",
      "    for i in range(1,len(list)):\n",
      "        tmp = list[i]\n",
      "        j = i - 1\n",
      "        while j >=0 and tmp<list[j]:\n",
      "            list[j+1] = list[j]\n",
      "            j -= 1\n",
      "        list[j+1] = tmp\n",
      "    return list\n",
      "\n",
      "l = range(10,0,-1)\n",
      "insert_sort(l)"
     ],
     "language": "python",
     "metadata": {},
     "outputs": [
      {
       "metadata": {},
       "output_type": "pyout",
       "prompt_number": 2,
       "text": [
        "[1, 2, 3, 4, 5, 6, 7, 8, 9, 10]"
       ]
      }
     ],
     "prompt_number": 2
    },
    {
     "cell_type": "heading",
     "level": 2,
     "metadata": {},
     "source": [
      "Merge Sort:"
     ]
    },
    {
     "cell_type": "code",
     "collapsed": false,
     "input": [
      "def merge_sort(list):\n",
      "    if len(list) <=1:\n",
      "        return list\n",
      "    mid = len(list)/2\n",
      "    left = merge_sort(list[:mid])\n",
      "    right = merge_sort(list[mid:])\n",
      "    \n",
      "    result = []\n",
      "    while len(left)>0 and len(right)>0:\n",
      "        if left[0] < right[0]:\n",
      "            result.append(left.pop(0))\n",
      "        else:\n",
      "            result.append(right.pop(0))\n",
      "    result += left\n",
      "    result += right\n",
      "    \n",
      "    return result\n",
      "\n",
      "l = range(10,0,-1)\n",
      "merge_sort(l)"
     ],
     "language": "python",
     "metadata": {},
     "outputs": [
      {
       "metadata": {},
       "output_type": "pyout",
       "prompt_number": 3,
       "text": [
        "[1, 2, 3, 4, 5, 6, 7, 8, 9, 10]"
       ]
      }
     ],
     "prompt_number": 3
    },
    {
     "cell_type": "code",
     "collapsed": false,
     "input": [],
     "language": "python",
     "metadata": {},
     "outputs": []
    }
   ],
   "metadata": {}
  }
 ]
}