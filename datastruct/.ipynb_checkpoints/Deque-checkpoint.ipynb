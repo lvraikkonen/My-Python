{
 "metadata": {
  "name": "",
  "signature": "sha256:da7cd515d94534ef680006e9107c43e1214b51529fa50e81b1d4ffc08928b7b4"
 },
 "nbformat": 3,
 "nbformat_minor": 0,
 "worksheets": [
  {
   "cells": [
    {
     "cell_type": "markdown",
     "metadata": {},
     "source": [
      "Deque, also known as a double-ended queue, is an ordered collection of items similar to the queue. It has two ends, a front and a rear, and the items remain positioned in the collection. \n",
      "It does not require the LIFO and FIFO orderings that are enforced by those data structures. It is up to you to make consistent use of the addition and removal operations."
     ]
    },
    {
     "cell_type": "code",
     "collapsed": false,
     "input": [
      "class Deque:\n",
      "    def __init__(self):\n",
      "        self.data = []\n",
      "    \n",
      "    def isEmpty(self):\n",
      "        return self.data == []\n",
      "    \n",
      "    def addFront(self,item):\n",
      "        self.data.append(item)\n",
      "    \n",
      "    def addRear(self,item):\n",
      "        self.data.insert(0,item)\n",
      "    \n",
      "    def removeFront(self):\n",
      "        if self.data:\n",
      "            return self.data.pop()\n",
      "    \n",
      "    def removeRear(self):\n",
      "        if self.data:\n",
      "            return self.data.pop(0)\n",
      "    \n",
      "    def size(self):\n",
      "        return len(self.data)\n",
      "\n",
      "d = Deque()\n",
      "d.addFront(2)\n",
      "d.addFront(3)\n",
      "d.addRear('h')\n",
      "d.data"
     ],
     "language": "python",
     "metadata": {},
     "outputs": [
      {
       "metadata": {},
       "output_type": "pyout",
       "prompt_number": 5,
       "text": [
        "['h', 2, 3]"
       ]
      }
     ],
     "prompt_number": 5
    },
    {
     "cell_type": "heading",
     "level": 2,
     "metadata": {},
     "source": [
      "Palindrome-Checker \u56de\u6587\uff0c\u6b63\u7740\u5ff5\uff0c\u53cd\u7740\u5ff5\u90fd\u4e00\u6837"
     ]
    },
    {
     "cell_type": "markdown",
     "metadata": {},
     "source": [
      "A palindrome is a string that reads the same forward and backward, for example, radar, toot, and madam. "
     ]
    },
    {
     "cell_type": "code",
     "collapsed": false,
     "input": [
      "def palchecker(str):\n",
      "    charDeque = Deque()\n",
      "    \n",
      "    for c in str:\n",
      "        charDeque.addRear(c)\n",
      "    stillEqual = True\n",
      "    while charDeque.size() > 1 and stillEqual:\n",
      "        first = charDeque.removeFront()\n",
      "        last = charDeque.removeRear()\n",
      "        if first != last:\n",
      "            stillEqual = False\n",
      "    return stillEqual\n",
      "\n",
      "print palchecker('root')\n",
      "print palchecker('radar')"
     ],
     "language": "python",
     "metadata": {},
     "outputs": [
      {
       "output_type": "stream",
       "stream": "stdout",
       "text": [
        "False\n",
        "True\n"
       ]
      }
     ],
     "prompt_number": 7
    },
    {
     "cell_type": "heading",
     "level": 2,
     "metadata": {},
     "source": [
      "\u56de\u6587\u89e3\u6cd5"
     ]
    },
    {
     "cell_type": "markdown",
     "metadata": {},
     "source": [
      "\u5206\u522b\u4ece\u9996\u5c3e\u6bd4\u8f83\u6bcf\u4e2a\u5b57\u7b26\uff0c\u53ea\u8003\u8651\u5b57\u6bcd\u548c\u6570\u5b57"
     ]
    },
    {
     "cell_type": "code",
     "collapsed": false,
     "input": [
      "def validPal(s):\n",
      "    i, j = 0, len(s)-1\n",
      "    while i < j:\n",
      "        # skip non-digit & non-alpha from left\n",
      "        while i < j and not(s[i].isdigit() or s[i].isalpha()):\n",
      "            i += 1\n",
      "        while i < j and not(s[j].isdigit() or s[j].isalpha()):\n",
      "            j -= 1\n",
      "        if s[i] != s[j]:\n",
      "            return False\n",
      "        else:\n",
      "            i, j = i+1, j-1\n",
      "    return True\n",
      "\n",
      "print validPal('radar.')"
     ],
     "language": "python",
     "metadata": {},
     "outputs": [
      {
       "output_type": "stream",
       "stream": "stdout",
       "text": [
        "True\n"
       ]
      }
     ],
     "prompt_number": 3
    },
    {
     "cell_type": "code",
     "collapsed": false,
     "input": [],
     "language": "python",
     "metadata": {},
     "outputs": []
    }
   ],
   "metadata": {}
  }
 ]
}