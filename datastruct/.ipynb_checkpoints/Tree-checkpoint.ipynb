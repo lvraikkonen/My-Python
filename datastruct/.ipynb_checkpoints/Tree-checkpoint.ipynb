{
 "metadata": {
  "name": "",
  "signature": "sha256:433c6e3bb62908e77eb0e9312a2ec3d4a1297c2755dab718103d8c9c96a9e34d"
 },
 "nbformat": 3,
 "nbformat_minor": 0,
 "worksheets": [
  {
   "cells": [
    {
     "cell_type": "heading",
     "level": 1,
     "metadata": {},
     "source": [
      "\u4e8c\u53c9\u6811"
     ]
    },
    {
     "cell_type": "code",
     "collapsed": false,
     "input": [
      "class BinaryTree:\n",
      "    def __init__(self, root):\n",
      "        self.key = root\n",
      "        self.leftChild = None\n",
      "        self.rightChild = None\n",
      "    \n",
      "    def insert_left_child(self, item):\n",
      "        # no left child\n",
      "        if not self.leftChild:\n",
      "            self.leftChild = BinaryTree(item)\n",
      "        else:\n",
      "            t = BinaryTree(item)\n",
      "            t.leftChild = self.leftChild\n",
      "            self.leftChild = t\n",
      "    \n",
      "    def insert_right_child(self, item):\n",
      "        # no right child\n",
      "        if not self.rightChild:\n",
      "            self.rightChild = BinaryTree(item)\n",
      "        else:\n",
      "            t = BinaryTree(item)\n",
      "            t.rightChild = self.rightChild\n",
      "            self.rightChild = t\n",
      "    \n",
      "    def get_left_child(self):\n",
      "        if self.leftChild:\n",
      "            return self.leftChild\n",
      "        else:\n",
      "            return \"No Left Child!\"\n",
      "    \n",
      "    def get_right_child(self):\n",
      "        if self.rightChild:\n",
      "            return self.rightChild\n",
      "        else:\n",
      "            return \"No Right Child!\"\n",
      "    \n",
      "    def get_root_val(self):\n",
      "        return self.key\n",
      "    \n",
      "    def set_root_val(self, val):\n",
      "        self.key = val"
     ],
     "language": "python",
     "metadata": {},
     "outputs": [],
     "prompt_number": 1
    },
    {
     "cell_type": "code",
     "collapsed": false,
     "input": [
      "tr = BinaryTree('a')\n",
      "tr.insert_left_child('b')\n",
      "tr.insert_right_child('c')\n",
      "tr.get_left_child().insert_right_child('d')\n",
      "tr.get_right_child().insert_left_child('e')\n",
      "tr.get_right_child().insert_right_child('f')\n",
      "# print tr.get_root_val()\n",
      "# print tr.get_left_child().get_right_child().get_root_val()\n",
      "# print tr.get_right_child().get_left_child().get_root_val()"
     ],
     "language": "python",
     "metadata": {},
     "outputs": [],
     "prompt_number": 2
    },
    {
     "cell_type": "heading",
     "level": 1,
     "metadata": {},
     "source": [
      "\u6811\u7684\u904d\u5386"
     ]
    },
    {
     "cell_type": "markdown",
     "metadata": {},
     "source": [
      "- \u524d\u5e8f preorder (\u6839\u2014\u2014\u5de6\u2014\u2014\u53f3)\n",
      "   In a preorder traversal, we visit the root node first, then recursively do a preorder traversal of the left subtree, followed by a recursive preorder traversal of the right subtree.\n",
      "- \u4e2d\u5e8f inorder (\u5de6\u2014\u2014\u6839\u2014\u2014\u53f3)\n",
      "   In an inorder traversal, we recursively do an inorder traversal on the left subtree, visit the root node, and finally do a recursive inorder traversal of the right subtree.\n",
      "- \u540e\u5e8f postorder (\u5de6\u2014\u2014\u53f3\u2014\u2014\u6839)\n",
      "   In a postorder traversal, we recursively do a postorder traversal of the left subtree and the right subtree followed by a visit to the root node."
     ]
    },
    {
     "cell_type": "code",
     "collapsed": false,
     "input": [
      "# preorder traverse\n",
      "def preorder(tree):\n",
      "    if tree:\n",
      "        print tree.get_root_val()\n",
      "        preorder(tree.get_left_child())\n",
      "        preorder(tree.get_right_child())"
     ],
     "language": "python",
     "metadata": {},
     "outputs": [],
     "prompt_number": 23
    },
    {
     "cell_type": "code",
     "collapsed": false,
     "input": [
      "# inorder traverse\n",
      "def inorder(tree):\n",
      "    if tree:\n",
      "        inorder(tree.get_left_child())\n",
      "        print tree.get_root_val()\n",
      "        inorder(tree.get_right_child())"
     ],
     "language": "python",
     "metadata": {},
     "outputs": [],
     "prompt_number": 24
    },
    {
     "cell_type": "code",
     "collapsed": false,
     "input": [
      "# postorder traverse\n",
      "def postorder(tree):\n",
      "    if tree:\n",
      "        postorder(tree.get_left_child())\n",
      "        postorder(tree.get_right_child())\n",
      "        print tree.get_root_val()"
     ],
     "language": "python",
     "metadata": {},
     "outputs": [],
     "prompt_number": 25
    },
    {
     "cell_type": "heading",
     "level": 1,
     "metadata": {},
     "source": [
      "\u6811\u7684\u5e94\u7528\u2014\u2014\u89e3\u6790\u6811"
     ]
    },
    {
     "cell_type": "markdown",
     "metadata": {},
     "source": [
      "\u89c4\u5219\uff1a\n",
      "1. \u5982\u679c\u8bfb\u5165\u5b57\u7b26\u4e3a'(', \u5728\u5f53\u524d\u7ed3\u70b9\u4e0b\u63d2\u5165\u5de6\u5b50\u7ed3\u70b9\uff0c\u5e76\u5c06current\u6307\u9488\u6307\u5411\u5de6\u5b50\u8282\u70b9\n",
      "2. \u5982\u679c\u8bfb\u5165\u5b57\u7b26\u5728['+','-','*','/'], \u5c06\u5f53\u524d\u7ed3\u70b9\u7684\u503c\u8bbe\u4e3a\u8bfb\u5165\u5b57\u7b26, \u5e76\u4e14\u5728\u5f53\u524d\u7ed3\u70b9\u6dfb\u52a0\u53f3\u5b50\u8282\u70b9, \u5e76\u5c06current\u6307\u9488\u6307\u5411\u53f3\u5b50\u8282\u70b9\n",
      "3. \u5982\u679c\u8bfb\u5165\u5b57\u7b26\u4e3a\u6570\u5b57, \u5c06\u5f53\u524d\u7ed3\u70b9\u7684\u503c\u8bbe\u4e3a\u6570\u5b57\uff0c\u5e76\u5c06current\u6307\u9488\u6307\u5411\u5f53\u524d\u7ed3\u70b9\u7684\u7236\u8282\u70b9\n",
      "4. \u5982\u679c\u8bfb\u5165\u5b57\u7b26\u4e3a')', \u5c06current\u6307\u9488\u6307\u5411\u5f53\u524d\u7ed3\u70b9\u7684\u7236\u8282\u70b9"
     ]
    },
    {
     "cell_type": "markdown",
     "metadata": {},
     "source": [
      "\u4f7f\u7528\u6808\u6765\u4fdd\u5b58\u5f53\u524d\u7ed3\u70b9\u7684\u7236\u8282\u70b9\u4fe1\u606f"
     ]
    },
    {
     "cell_type": "code",
     "collapsed": false,
     "input": [
      "## min stack\n",
      "class Stack:\n",
      "    def __init__(self):\n",
      "        self.data = []\n",
      "        self.min_data = []\n",
      "    \n",
      "    def push(self, item):\n",
      "        self.data.append(item)\n",
      "        if not self.min_data or item <= self.min_data[-1]:\n",
      "            self.min_data.append(item)\n",
      "    \n",
      "    def pop(self):\n",
      "        if not self.data:\n",
      "            return \"No element in stack\"\n",
      "        else:\n",
      "            if self.min_data[-1] == self.data.pop():\n",
      "                return self.min_data.pop()\n",
      "    \n",
      "    def peek(self):\n",
      "        if self.data:\n",
      "            return self.data[-1]\n",
      "    \n",
      "    def min(self):\n",
      "        if self.min_data:\n",
      "            return self.min_data[-1]\n",
      "    \n",
      "    def size(self):\n",
      "        return len(self.data)\n",
      "\n",
      "s = Stack()\n",
      "print s.pop()\n",
      "s.push(2)\n",
      "s.push(0)\n",
      "s.push(0)\n",
      "s.push(3)\n",
      "s.min()\n",
      "print s.data\n",
      "print s.min_data"
     ],
     "language": "python",
     "metadata": {},
     "outputs": [
      {
       "output_type": "stream",
       "stream": "stdout",
       "text": [
        "No element in stack\n",
        "[2, 0, 0, 3]\n",
        "[2, 0, 0]\n"
       ]
      }
     ],
     "prompt_number": 6
    },
    {
     "cell_type": "code",
     "collapsed": false,
     "input": [
      "def build_parse_tree(str_exp):\n",
      "    lst = str_exp.split()\n",
      "    root = BinaryTree(0)\n",
      "    pstack = Stack()\n",
      "    pstack.push(root)\n",
      "    current = root\n",
      "    for c in lst:\n",
      "        if c =='(':\n",
      "            current.insert_left_child('')\n",
      "            pstack.push(current) # parent node\n",
      "            current = current.get_left_child()\n",
      "        elif c in ['+','-','*','/']:\n",
      "            current.set_root_val(c)\n",
      "            current.insert_right_child('')\n",
      "            pstack.push(current)\n",
      "            current = current.get_right_child()\n",
      "        elif c not in ['+','-','*','/',')']:\n",
      "            current.set_root_val(int(c))\n",
      "            parent = pstack.pop() # get parent node\n",
      "            current = parent\n",
      "        elif c == ')':\n",
      "            current = pstack.pop()\n",
      "        else:\n",
      "            raise ValueError\n",
      "    return root"
     ],
     "language": "python",
     "metadata": {},
     "outputs": [],
     "prompt_number": 22
    },
    {
     "cell_type": "code",
     "collapsed": false,
     "input": [
      "tr = build_parse_tree(\"( ( 10 + 5 ) * 3 )\")\n",
      "tr"
     ],
     "language": "python",
     "metadata": {},
     "outputs": [
      {
       "metadata": {},
       "output_type": "pyout",
       "prompt_number": 21,
       "text": [
        "<__main__.BinaryTree instance at 0x1045b3e18>"
       ]
      }
     ],
     "prompt_number": 21
    },
    {
     "cell_type": "code",
     "collapsed": false,
     "input": [],
     "language": "python",
     "metadata": {},
     "outputs": [],
     "prompt_number": 19
    }
   ],
   "metadata": {}
  }
 ]
}