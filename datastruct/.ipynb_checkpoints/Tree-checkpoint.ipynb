{
 "metadata": {
  "name": "",
  "signature": "sha256:04626525dc4d650176cd06bdbd27b3a74865029f0ff79f1c31cc01fc10aceb3b"
 },
 "nbformat": 3,
 "nbformat_minor": 0,
 "worksheets": [
  {
   "cells": [
    {
     "cell_type": "heading",
     "level": 1,
     "metadata": {},
     "source": [
      "\u4e8c\u53c9\u6811"
     ]
    },
    {
     "cell_type": "code",
     "collapsed": false,
     "input": [
      "class BinaryTree:\n",
      "    def __init__(self, root):\n",
      "        self.key = root\n",
      "        self.left_child = None\n",
      "        self.right_child = None\n",
      "    \n",
      "    def insert_left(self, new_node):\n",
      "        if self.left_child == None:\n",
      "            self.left_child = BinaryTree(new_node)\n",
      "        else:\n",
      "            t = BinaryTree(new_node)\n",
      "            t.left_child = self.left_child\n",
      "            self.left_child = t\n",
      "    \n",
      "    def insert_right(self, new_node):\n",
      "        if self.right_child == None:\n",
      "            self.right_child = BinaryTree(new_node)\n",
      "        else:\n",
      "            t = BinaryTree(new_node)\n",
      "            t.right_child = self.right_child\n",
      "            self.right_child = t\n",
      "    \n",
      "    def get_right_child(self):\n",
      "        return self.right_child\n",
      "    \n",
      "    def get_left_child(self):\n",
      "        return self.left_child\n",
      "    \n",
      "    def set_root_val(self, obj):\n",
      "        self.key = obj\n",
      "    \n",
      "    def get_root_val(self):\n",
      "        return self.key"
     ],
     "language": "python",
     "metadata": {},
     "outputs": [],
     "prompt_number": 11
    },
    {
     "cell_type": "code",
     "collapsed": false,
     "input": [
      "tr = BinaryTree('a')\n",
      "tr.insert_left('b')\n",
      "tr.insert_right('c')\n",
      "tr.get_left_child().insert_right('d')\n",
      "tr.get_right_child().insert_left('e')\n",
      "tr.get_right_child().insert_right('f')\n",
      "# print tr.get_root_val()\n",
      "# print tr.get_left_child().get_right_child().get_root_val()\n",
      "# print tr.get_right_child().get_left_child().get_root_val()"
     ],
     "language": "python",
     "metadata": {},
     "outputs": [],
     "prompt_number": 12
    },
    {
     "cell_type": "code",
     "collapsed": false,
     "input": [],
     "language": "python",
     "metadata": {},
     "outputs": []
    }
   ],
   "metadata": {}
  }
 ]
}