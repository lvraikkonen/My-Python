{
 "metadata": {
  "name": "",
  "signature": "sha256:a243ed145b0df0365f55c96ca7517acbe9f89df46d9de2bc5a850220252421c2"
 },
 "nbformat": 3,
 "nbformat_minor": 0,
 "worksheets": [
  {
   "cells": [
    {
     "cell_type": "heading",
     "level": 2,
     "metadata": {},
     "source": [
      "Bubble Sort:"
     ]
    },
    {
     "cell_type": "markdown",
     "metadata": {},
     "source": [
      "\u5728\u4e24\u5c42\u5faa\u73af\u91cc\uff0c\u5982\u679c\u6bd4\u540e\u9762\u5143\u7d20\u5927\uff0c\u5219\u4ea4\u6362\u4f4d\u7f6e"
     ]
    },
    {
     "cell_type": "code",
     "collapsed": false,
     "input": [
      "def bubble_sort(list):\n",
      "    for i in range(0,len(list)):\n",
      "        for j in range(i,len(list)):\n",
      "            if list[i] > list[j]:\n",
      "                list[i],list[j] = list[j],list[i]\n",
      "    return list\n",
      "\n",
      "l = range(10,0,-1)\n",
      "bubble_sort(l)"
     ],
     "language": "python",
     "metadata": {},
     "outputs": [
      {
       "metadata": {},
       "output_type": "pyout",
       "prompt_number": 6,
       "text": [
        "[1, 2, 3, 4, 5, 6, 7, 8, 9, 10]"
       ]
      }
     ],
     "prompt_number": 6
    },
    {
     "cell_type": "heading",
     "level": 2,
     "metadata": {},
     "source": [
      "Select Sort:"
     ]
    },
    {
     "cell_type": "markdown",
     "metadata": {},
     "source": [
      "\u5728\u6bcf\u4e2a\u56de\u5408\u4e2d\uff0c\u9009\u51fa\u5269\u4e0b\u5217\u8868\u4e2d\u6700\u5c0f\u7684\uff0c\u7136\u540e\u653e\u5728\u7b2c\u4e00\u4f4d"
     ]
    },
    {
     "cell_type": "code",
     "collapsed": false,
     "input": [
      "def select_sort(list):\n",
      "    for i in range(0,len(list)):\n",
      "        minindex = i\n",
      "        for j in range(i,len(list)):\n",
      "            if list[minindex] > list[j]:\n",
      "                minindex = j\n",
      "        list[i],list[minindex] = list[minindex],list[i]\n",
      "    return list\n",
      "\n",
      "l = range(10,0,-1)\n",
      "select_sort(l)"
     ],
     "language": "python",
     "metadata": {},
     "outputs": [
      {
       "metadata": {},
       "output_type": "pyout",
       "prompt_number": 7,
       "text": [
        "[1, 2, 3, 4, 5, 6, 7, 8, 9, 10]"
       ]
      }
     ],
     "prompt_number": 7
    },
    {
     "cell_type": "heading",
     "level": 2,
     "metadata": {},
     "source": [
      "Insert Sort:"
     ]
    },
    {
     "cell_type": "markdown",
     "metadata": {},
     "source": [
      "\u5047\u8bbe\u524d\u9762\u7684\u5143\u7d20\u90fd\u662f\u6392\u597d\u5e8f\u7684\uff0c\u628a\u5f85\u6392\u5e8f\u7684\u7b2c\u4e00\u4e2a\u5143\u7d20\u548c\u524d\u9762\u5df2\u6392\u5e8f\u7684\u5217\u8868\u5bf9\u6bd4\uff0c\u627e\u5230\u5408\u9002\u4f4d\u7f6e\u653e\u4e0b \u65f6\u95f4\u590d\u6742\u5ea6O(n^2)"
     ]
    },
    {
     "cell_type": "code",
     "collapsed": false,
     "input": [
      "def insert_sort(alist):\n",
      "    for i in range(1,len(alist)):\n",
      "        tmp = alist[i]\n",
      "        j = i - 1\n",
      "        while j >=0 and tmp<alist[j]:\n",
      "            alist[j+1] = alist[j]\n",
      "            j -= 1\n",
      "        alist[j+1] = tmp\n",
      "    return alist\n",
      "\n",
      "l = range(10,0,-1)\n",
      "insert_sort(l)"
     ],
     "language": "python",
     "metadata": {},
     "outputs": [
      {
       "metadata": {},
       "output_type": "pyout",
       "prompt_number": 8,
       "text": [
        "[1, 2, 3, 4, 5, 6, 7, 8, 9, 10]"
       ]
      }
     ],
     "prompt_number": 8
    },
    {
     "cell_type": "heading",
     "level": 3,
     "metadata": {},
     "source": [
      "\u4f7f\u7528\u4e8c\u5206\u67e5\u627e\u8fdb\u884c\u63d2\u5165\u6392\u5e8f"
     ]
    },
    {
     "cell_type": "markdown",
     "metadata": {},
     "source": [
      "\u5f85\u6392\u5e8f\u7684\u5143\u7d20\uff0c\u5728\u524d\u9762\u5df2\u6392\u5e8f\u7684\u5217\u8868\u4e2d\u627e\u5230\u4f4d\u7f6e"
     ]
    },
    {
     "cell_type": "code",
     "collapsed": false,
     "input": [
      "def insert_sort_binarysearch(alist):\n",
      "    for i in range(1, len(alist)):\n",
      "        tmp = alist[i]\n",
      "        # use binary search to find the place\n",
      "        first = 0\n",
      "        last = i - 1\n",
      "        while first <= last:\n",
      "            mid = (first + last) // 2\n",
      "            if alist[mid] > tmp:\n",
      "                # go to left\n",
      "                last = mid - 1\n",
      "            else:\n",
      "                first = mid + 1\n",
      "        while i > first:\n",
      "            # move backward\n",
      "            alist[i] = alist[i-1]\n",
      "            i -= 1\n",
      "        alist[i] = tmp\n",
      "    return alist\n",
      "\n",
      "l = range(10,0,-1)\n",
      "insert_sort_binarysearch(l)"
     ],
     "language": "python",
     "metadata": {},
     "outputs": [
      {
       "metadata": {},
       "output_type": "pyout",
       "prompt_number": 9,
       "text": [
        "[1, 2, 3, 4, 5, 6, 7, 8, 9, 10]"
       ]
      }
     ],
     "prompt_number": 9
    },
    {
     "cell_type": "heading",
     "level": 2,
     "metadata": {},
     "source": [
      "Merge Sort:"
     ]
    },
    {
     "cell_type": "markdown",
     "metadata": {},
     "source": [
      "\u628a\u4e24\u4e2a\u5df2\u6392\u5e8f\u7684\u5217\u8868\uff0c\u6309\u7167\u5927\u5c0f\u987a\u5e8f\u5408\u5e76\u6210\u4e00\u4e2a\u5217\u8868 \u65f6\u95f4\u590d\u6742\u5ea6O(nlogn)"
     ]
    },
    {
     "cell_type": "code",
     "collapsed": false,
     "input": [
      "def merge_sort(list):\n",
      "    if len(list) <=1:\n",
      "        return list\n",
      "    mid = len(list)/2\n",
      "    left = merge_sort(list[:mid])\n",
      "    right = merge_sort(list[mid:])\n",
      "    \n",
      "    # extra space\n",
      "    result = []\n",
      "    while len(left)>0 and len(right)>0:\n",
      "        if left[0] < right[0]:\n",
      "            result.append(left.pop(0))\n",
      "        else:\n",
      "            result.append(right.pop(0))\n",
      "    result += left\n",
      "    result += right\n",
      "    \n",
      "    return result\n",
      "\n",
      "l = range(10,0,-1)\n",
      "merge_sort(l)"
     ],
     "language": "python",
     "metadata": {},
     "outputs": [
      {
       "metadata": {},
       "output_type": "pyout",
       "prompt_number": 11,
       "text": [
        "[1, 2, 3, 4, 5, 6, 7, 8, 9, 10]"
       ]
      }
     ],
     "prompt_number": 11
    },
    {
     "cell_type": "heading",
     "level": 2,
     "metadata": {},
     "source": [
      "\u5feb\u901f\u6392\u5e8f Quick Sort"
     ]
    },
    {
     "cell_type": "markdown",
     "metadata": {},
     "source": [
      "1. \u7b2c\u4e00\u6b65\uff1a\u9009\u51fa\u57fa\u51c6\u6570\uff0c\u4f7f\u5f97\u5de6\u4fa7\u6570\u5168\u90e8\u5c0f\u4e8e\u57fa\u51c6\u6570\uff0c\u53f3\u4fa7\u6570\u5168\u90e8\u5927\u4e8e\u57fa\u51c6\u6570\n",
      "2. \u7b2c\u4e8c\u6b65\uff1a\u5206\u522b\u5bf9\u5de6\u4fa7\u548c\u53f3\u4fa7\u5217\u8868\u8fdb\u884c\u7b2c\u4e00\u6b65\u64cd\u4f5c\n",
      "\n",
      "\u539f\u5730\u6392\u5e8f sort in-place"
     ]
    },
    {
     "cell_type": "heading",
     "level": 3,
     "metadata": {},
     "source": [
      "\u5206\u533a\u51fd\u6570\u2014\u2014\u5b8c\u6210\u5feb\u901f\u6392\u5e8f\u7b2c\u4e00\u6b65"
     ]
    },
    {
     "cell_type": "code",
     "collapsed": false,
     "input": [
      "def partition(alist, first, last):\n",
      "    pivot = alist[first]\n",
      "    left = first + 1\n",
      "    right = last\n",
      "    done = False\n",
      "    while not done:\n",
      "        while left <= right and alist[left] < pivot:\n",
      "            left += 1\n",
      "        while left <= right and alist[right] > pivot:\n",
      "            right -= 1\n",
      "        if right < left:\n",
      "            done = True\n",
      "        else:\n",
      "            # swap\n",
      "            alist[left], alist[right] = alist[right], alist[left]\n",
      "    # exchange pivot value\n",
      "    alist[first], alist[right] = alist[right], alist[first]\n",
      "    # return the split index\n",
      "    return right"
     ],
     "language": "python",
     "metadata": {},
     "outputs": [],
     "prompt_number": 12
    },
    {
     "cell_type": "heading",
     "level": 3,
     "metadata": {},
     "source": [
      "\u9012\u5f52\u5b8c\u6210\u5feb\u901f\u6392\u5e8f"
     ]
    },
    {
     "cell_type": "code",
     "collapsed": false,
     "input": [
      "def quick_sort(alist, first, last):\n",
      "    # only one element in list\n",
      "    if first < last:\n",
      "        split_point = partition(alist, first, last)\n",
      "        \n",
      "        # sort left\n",
      "        quick_sort(alist, first, split_point-1)\n",
      "        # sort right\n",
      "        quick_sort(alist, split_point+1, last)"
     ],
     "language": "python",
     "metadata": {},
     "outputs": [],
     "prompt_number": 13
    },
    {
     "cell_type": "code",
     "collapsed": false,
     "input": [
      "l = [14,17,13,15,19,10,3,16,9,12]\n",
      "quick_sort(l, 0, len(l)-1)\n",
      "print l"
     ],
     "language": "python",
     "metadata": {},
     "outputs": [
      {
       "output_type": "stream",
       "stream": "stdout",
       "text": [
        "[3, 9, 10, 12, 13, 14, 15, 16, 17, 19]\n"
       ]
      }
     ],
     "prompt_number": 14
    },
    {
     "cell_type": "heading",
     "level": 1,
     "metadata": {},
     "source": [
      "\u5e0c\u5c14\u6392\u5e8f Shell Sort"
     ]
    },
    {
     "cell_type": "markdown",
     "metadata": {},
     "source": [
      "\u589e\u91cf\u63d2\u5165\u6392\u5e8f\uff0c\u9996\u5148\u4ee53\u4e3a\u95f4\u9694\u7684\u51e0\u7ec4\u6570\u636e\u5206\u522b\u6392\u5e8f\uff0c\u7136\u540e\u7f29\u5c0f\u95f4\u9694\u7ee7\u7eed\u63d2\u5165\u6392\u5e8f\uff0c\u5f53\u95f4\u9694\u4e3a1\u65f6\uff0c\u4e3a\u666e\u901a\u63d2\u5165\u6392\u5e8f"
     ]
    },
    {
     "cell_type": "code",
     "collapsed": false,
     "input": [
      "def shell_sort(alist):\n",
      "    gap = 3\n",
      "    while gap > 0:\n",
      "        for i in range(len(alist)):\n",
      "            tmp = alist[i]\n",
      "            j = i - gap\n",
      "            while j >= 0 and tmp < alist[j]:\n",
      "                alist[j + gap] = alist[j]\n",
      "                j -= gap\n",
      "            alist[j + gap] = tmp\n",
      "        gap /= 2\n",
      "    return alist"
     ],
     "language": "python",
     "metadata": {},
     "outputs": [],
     "prompt_number": 15
    },
    {
     "cell_type": "code",
     "collapsed": false,
     "input": [
      "print shell_sort(range(10,0,-1))"
     ],
     "language": "python",
     "metadata": {},
     "outputs": [
      {
       "output_type": "stream",
       "stream": "stdout",
       "text": [
        "[1, 2, 3, 4, 5, 6, 7, 8, 9, 10]\n"
       ]
      }
     ],
     "prompt_number": 16
    },
    {
     "cell_type": "code",
     "collapsed": false,
     "input": [],
     "language": "python",
     "metadata": {},
     "outputs": []
    }
   ],
   "metadata": {}
  }
 ]
}