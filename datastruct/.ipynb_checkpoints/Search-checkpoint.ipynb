{
 "metadata": {
  "name": "",
  "signature": "sha256:20c5d294af9872d1bf9ee5f2f5e81a182c410b94da93e74ce443e6f443d875ce"
 },
 "nbformat": 3,
 "nbformat_minor": 0,
 "worksheets": [
  {
   "cells": [
    {
     "cell_type": "heading",
     "level": 1,
     "metadata": {},
     "source": [
      "\u987a\u5e8f\u67e5\u627e Sequential Search"
     ]
    },
    {
     "cell_type": "markdown",
     "metadata": {},
     "source": [
      "\u5206\u4e3a\u4e24\u79cd\u60c5\u51b5\uff1a\n",
      "- \u5728\u65e0\u5e8f\u5217\u8868\u4e2d\u641c\u7d22\n",
      "- \u5728\u6709\u5e8f\u5217\u8868\u4e2d\u641c\u7d22"
     ]
    },
    {
     "cell_type": "heading",
     "level": 2,
     "metadata": {},
     "source": [
      "\u65e0\u5e8f\u5217\u8868\u4e2d\u641c\u7d22"
     ]
    },
    {
     "cell_type": "markdown",
     "metadata": {},
     "source": [
      "\u590d\u6742\u5ea6\u4e3aO(n) \u5728\u627e\u5230\u60c5\u51b5\u4e0b\uff0c\u6700\u597d\u4e3aO(1);\u672a\u627e\u5230\u60c5\u51b5\u4e0b\uff0c\u6700\u597d\u4e3aO(n)"
     ]
    },
    {
     "cell_type": "code",
     "collapsed": false,
     "input": [
      "def sequential_search(alist, item):\n",
      "    pos = 0\n",
      "    found = False\n",
      "    \n",
      "    while pos < len(alist) and not found:\n",
      "        if alist[pos] == item:\n",
      "            found = True\n",
      "        else:\n",
      "            pos += 1\n",
      "    return found\n",
      "\n",
      "l = [1,3,5,7,9]\n",
      "print sequential_search(l,4)"
     ],
     "language": "python",
     "metadata": {},
     "outputs": [
      {
       "output_type": "stream",
       "stream": "stdout",
       "text": [
        "False\n"
       ]
      }
     ],
     "prompt_number": 4
    },
    {
     "cell_type": "heading",
     "level": 2,
     "metadata": {},
     "source": [
      "\u6709\u5e8f\u5217\u8868\u4e2d\u641c\u7d22"
     ]
    },
    {
     "cell_type": "code",
     "collapsed": false,
     "input": [
      "def order_sequential_search(alist, item):\n",
      "    alist.sort()\n",
      "    pos = 0\n",
      "    found = False\n",
      "    stop = False\n",
      "    while pos < len(alist) and not found and not stop:\n",
      "        if item == alist[pos]:\n",
      "            found = True\n",
      "        else:\n",
      "            if alist[pos] > item:\n",
      "                stop = True\n",
      "            else:\n",
      "                pos += 1\n",
      "    return found\n",
      "\n",
      "l = [1,3,5,7,9]\n",
      "print order_sequential_search(l,4)"
     ],
     "language": "python",
     "metadata": {},
     "outputs": [
      {
       "output_type": "stream",
       "stream": "stdout",
       "text": [
        "False\n"
       ]
      }
     ],
     "prompt_number": 5
    },
    {
     "cell_type": "heading",
     "level": 1,
     "metadata": {},
     "source": [
      "\u4e8c\u5206\u67e5\u627e Binary Search"
     ]
    },
    {
     "cell_type": "markdown",
     "metadata": {},
     "source": [
      "\u524d\u63d0\uff1a\u6709\u5e8f\u5217\u8868\n",
      "- \u5206\u6cbb\u6cd5\uff1a\u9996\u5148\u548c\u4e2d\u95f4\u503c\u5bf9\u6bd4\uff0c\u6ca1\u627e\u5230\u5982\u679c\u6bd4\u4e2d\u95f4\u503c\u5c0f\uff0c\u5728\u5de6\u4fa7\u7ee7\u7eed\u4e8c\u5206\u67e5\u627e, O(logN)"
     ]
    },
    {
     "cell_type": "code",
     "collapsed": false,
     "input": [
      "def binary_search(alist, item):\n",
      "    alist.sort()\n",
      "    first, last = 0, len(alist)-1\n",
      "    found = False\n",
      "    \n",
      "    while first <= last and not found:\n",
      "        mid = (first + last) // 2\n",
      "        if alist[mid] == item:\n",
      "            found = True\n",
      "        else:\n",
      "            if item < alist[mid]:\n",
      "                # find on left\n",
      "                last = mid - 1\n",
      "            else:\n",
      "                # find on right\n",
      "                first = mid + 1\n",
      "    return found\n",
      "\n",
      "l = range(10,0,-1)\n",
      "print binary_search(l,11)"
     ],
     "language": "python",
     "metadata": {},
     "outputs": [
      {
       "output_type": "stream",
       "stream": "stdout",
       "text": [
        "False\n"
       ]
      }
     ],
     "prompt_number": 10
    },
    {
     "cell_type": "heading",
     "level": 2,
     "metadata": {},
     "source": [
      "\u9012\u5f52\u5b9e\u73b0 \u4e8c\u5206\u67e5\u627e"
     ]
    },
    {
     "cell_type": "code",
     "collapsed": false,
     "input": [
      "def binary_search_recursive(alist, item):\n",
      "    alist.sort()\n",
      "    if len(alist) == 0:\n",
      "        return False\n",
      "    else:\n",
      "        mid = len(alist) // 2\n",
      "        print alist[mid]\n",
      "        if alist[mid] == item:\n",
      "            return True\n",
      "        else:\n",
      "            if item < alist[mid]:\n",
      "                # print alist[:mid]\n",
      "                return binary_search_recursive(alist[:mid], item)\n",
      "            else:\n",
      "                # print alist[mid+1:]\n",
      "                return binary_search_recursive(alist[mid+1:], item)\n",
      "\n",
      "l = [3, 5, 6, 8, 11, 12, 14, 15, 17, 18]\n",
      "print binary_search_recursive(l, 16)"
     ],
     "language": "python",
     "metadata": {},
     "outputs": [
      {
       "output_type": "stream",
       "stream": "stdout",
       "text": [
        "12\n",
        "17\n",
        "15\n",
        "False\n"
       ]
      }
     ],
     "prompt_number": 1
    },
    {
     "cell_type": "heading",
     "level": 1,
     "metadata": {},
     "source": [
      "Hash \u67e5\u627e"
     ]
    },
    {
     "cell_type": "markdown",
     "metadata": {},
     "source": [
      "\u4f7f\u7528O(1)\u5e38\u6570\u65f6\u95f4\u8fdb\u884c\u67e5\u627e"
     ]
    },
    {
     "cell_type": "heading",
     "level": 2,
     "metadata": {},
     "source": [
      "Hash Table"
     ]
    },
    {
     "cell_type": "markdown",
     "metadata": {},
     "source": [
      "Each position of the hash table, often called a slot, can hold an item and is named by an integer value starting at 0. For example, we will have a slot named 0, a slot named 1, a slot named 2, and so on. "
     ]
    },
    {
     "cell_type": "heading",
     "level": 2,
     "metadata": {},
     "source": [
      "Hash Function"
     ]
    },
    {
     "cell_type": "markdown",
     "metadata": {},
     "source": [
      "\u88c5\u8f7d\u56e0\u5b50\uff1a \u03bb = numberofitems / tablesize"
     ]
    },
    {
     "cell_type": "markdown",
     "metadata": {},
     "source": [
      "Hash\u51fd\u6570\u5c06item\u5bf9\u5e94\u5230Hash\u8868\u7684\u67d0\u4e2a\u4f4d\u7f6e\u4e0a\u3002\n",
      "\n",
      "Our goal is to create a hash function that minimizes the number of collisions, is easy to compute, and evenly distributes the items in the hash table. \n",
      "\n",
      "\u5e38\u89c1\u7684hash\u51fd\u6570\uff1a\n",
      "- \u53d6\u4f59\u6cd5\uff1a\n",
      "- Folding Method: \u5c06item\u5206\u4e3a\u7b49\u5927\u5c0f\u7684\u51e0\u5757\uff0c\u5c06\u6bcf\u4e00\u5757\u52a0\u8d77\u6765\u4f5c\u4e3ahash\u503c\n",
      "- Mid-Square method: \u5148\u5c06item\u5e73\u65b9\uff0c\u7136\u540e\u53d6\u4e2d\u95f4\u4e24\u4f4d\u5bf9\u8868\u5927\u5c0f\u53d6\u4f59\n",
      "- \u3002\u3002\u3002"
     ]
    },
    {
     "cell_type": "code",
     "collapsed": false,
     "input": [
      "def hash(astring, tableSize):\n",
      "    sum = 0\n",
      "    ## add weight of position to avoid anagrams\n",
      "    for pos in range(astring):\n",
      "        sum += ord(astring[pos]) * (pos + 1)\n",
      "    return sum % tablesize"
     ],
     "language": "python",
     "metadata": {},
     "outputs": [],
     "prompt_number": 2
    },
    {
     "cell_type": "heading",
     "level": 2,
     "metadata": {},
     "source": [
      "\u51b2\u7a81\u89e3\u51b3\u65b9\u6cd5"
     ]
    },
    {
     "cell_type": "markdown",
     "metadata": {},
     "source": [
      "- \u5f00\u653e\u5bfb\u5740\u6cd5 Open addressing \uff1afind the next open slot or address in the hash table.\n",
      "- \u7b49\u7b49"
     ]
    },
    {
     "cell_type": "heading",
     "level": 1,
     "metadata": {},
     "source": [
      "Map \u62bd\u8c61\u6570\u636e\u7c7b\u578b"
     ]
    },
    {
     "cell_type": "markdown",
     "metadata": {},
     "source": [
      "\u4f7f\u7528\u952e\u503c\u5bf9\u8868\u8fbe\u6570\u636e\uff0c \u4f8b\u5982Python\u5185\u7f6e\u6570\u636e\u7c7b\u578b\u4e2d\u7684`Dictionary`, \u7ed9\u51fakey\u503c\uff0c\u4ee5\u5e38\u6570\u65f6\u95f4O(1)\u67e5\u627e\u51faValue\u503c"
     ]
    },
    {
     "cell_type": "code",
     "collapsed": false,
     "input": [
      "class HashTable:\n",
      "    def __init__(self):\n",
      "        self.size = 11\n",
      "        self.slots = [None] * self.size\n",
      "        self.data = [None] * self.size\n",
      "    \n",
      "    def hashfunction(self, key, size):\n",
      "        return key % size\n",
      "    \n",
      "    # collision resolution: linear probing with plus 1 rehash func\n",
      "    def rehash(self, oldhash, size):\n",
      "        return (oldhash + 1) % size\n",
      "    \n",
      "    def put(self, key, data):\n",
      "        hashvalus = self.hashfunction(key, len(self.slots))\n",
      "        \n",
      "        # empty slot\n",
      "        if self.slots[hashvalus] == None:\n",
      "            self.slots[hashvalus] = key\n",
      "            self.data[hashvalus] = data\n",
      "        else:\n",
      "            # exist the key, then replace\n",
      "            if self.slots[hashvalus] == key:\n",
      "                self.data[hashvalus] = data\n",
      "            else:\n",
      "                # collision\n",
      "                nextslot = self.rehash(hashvalus, len(self.slots))\n",
      "                while self.slots[nextslot] != None and self.slots[nextslot] != key:\n",
      "                    nextslot = self.rehash(nextslot, len(self.slots))\n",
      "                # empty slot\n",
      "                if self.slots[nextslot] == None:\n",
      "                    self.slots[nextslot] = key\n",
      "                    self.data[nextslot] = data\n",
      "                else:\n",
      "                    # replace\n",
      "                    self.data[nextslot] = data\n",
      "    \n",
      "    def get(self, key):\n",
      "        startslot = self.hashfunction(key, len(self.slots))\n",
      "        \n",
      "        data = None\n",
      "        stop = False\n",
      "        found = False\n",
      "        position = startslot\n",
      "        while self.slots[position] != None and not found and not stop:\n",
      "            if self.slots[position] == key:\n",
      "                found = True\n",
      "                data = self.data[position]\n",
      "            else:\n",
      "                position = self.rehash(position, len(self.slots))\n",
      "                if position == startslot:\n",
      "                    stop = True\n",
      "        return data\n",
      "    \n",
      "    def __getitem__(self, key):\n",
      "        return self.get(key)\n",
      "    \n",
      "    def __setitem__(self, key, value):\n",
      "        self.put(key, value)"
     ],
     "language": "python",
     "metadata": {},
     "outputs": [],
     "prompt_number": 10
    },
    {
     "cell_type": "code",
     "collapsed": false,
     "input": [
      "H = HashTable()\n",
      "H"
     ],
     "language": "python",
     "metadata": {},
     "outputs": [
      {
       "metadata": {},
       "output_type": "pyout",
       "prompt_number": 11,
       "text": [
        "<__main__.HashTable instance at 0x1040613f8>"
       ]
      }
     ],
     "prompt_number": 11
    },
    {
     "cell_type": "code",
     "collapsed": false,
     "input": [
      "H[10] = 'cat'\n",
      "H[12] = 'dog'\n",
      "H[14] = 'bird'\n",
      "print H.slots\n",
      "print H.data\n",
      "print H[12]"
     ],
     "language": "python",
     "metadata": {},
     "outputs": [
      {
       "output_type": "stream",
       "stream": "stdout",
       "text": [
        "[None, 12, None, 14, None, None, None, None, None, None, 10]\n",
        "[None, 'dog', None, 'bird', None, None, None, None, None, None, 'cat']\n",
        "dog\n"
       ]
      }
     ],
     "prompt_number": 14
    },
    {
     "cell_type": "code",
     "collapsed": false,
     "input": [],
     "language": "python",
     "metadata": {},
     "outputs": []
    }
   ],
   "metadata": {}
  }
 ]
}