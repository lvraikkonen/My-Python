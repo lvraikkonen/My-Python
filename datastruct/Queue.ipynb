{
 "metadata": {
  "name": "",
  "signature": "sha256:50199d7b9e8795561ae343bb5b54489a2890444fd8466ab7edf84da06b2003aa"
 },
 "nbformat": 3,
 "nbformat_minor": 0,
 "worksheets": [
  {
   "cells": [
    {
     "cell_type": "heading",
     "level": 1,
     "metadata": {},
     "source": [
      "Queue & Queue Usages"
     ]
    },
    {
     "cell_type": "markdown",
     "metadata": {},
     "source": [
      "A queue is an ordered collection of items where the addition of new items happens at one end. The most recently added item in the queue must wait at the end of the collection. The item that has been in the collection the longest is at the front. This ordering principle is sometimes called FIFO, first-in first-out. "
     ]
    },
    {
     "cell_type": "heading",
     "level": 2,
     "metadata": {},
     "source": [
      "Queue implementation"
     ]
    },
    {
     "cell_type": "code",
     "collapsed": false,
     "input": [
      "class Queue:\n",
      "    def __init__(self):\n",
      "        self.data = []\n",
      "    \n",
      "    def isEmpty(self):\n",
      "        return self.data == []\n",
      "    \n",
      "    def enqueue(self,item):\n",
      "        self.data.insert(0,item)\n",
      "    \n",
      "    def dequeue(self):\n",
      "        if len(self.data)>0:\n",
      "            return self.data.pop()\n",
      "    \n",
      "    def size(self):\n",
      "        return len(self.data)\n",
      "\n",
      "q = Queue()\n",
      "q.enqueue(2)\n",
      "q.enqueue(3)\n",
      "q.enqueue('aaa')\n",
      "q.dequeue()\n",
      "q.size()"
     ],
     "language": "python",
     "metadata": {},
     "outputs": [
      {
       "metadata": {},
       "output_type": "pyout",
       "prompt_number": 6,
       "text": [
        "2"
       ]
      }
     ],
     "prompt_number": 6
    },
    {
     "cell_type": "heading",
     "level": 2,
     "metadata": {},
     "source": [
      "Josephus Circle"
     ]
    },
    {
     "cell_type": "markdown",
     "metadata": {},
     "source": [
      "\u7ea6\u745f\u592b\u73af\uff0c\u6570\u5230\u6570\u5b57`num`\u7684\u4eba\u9000\u51fa\uff0c\u6c42\u6700\u540e\u5269\u4e0b\u7684\u4eba"
     ]
    },
    {
     "cell_type": "code",
     "collapsed": false,
     "input": [
      "def josephus(namelist, num):\n",
      "    q = Queue()\n",
      "    for name in namelist:\n",
      "        q.enqueue(name)\n",
      "    \n",
      "    while q.size() > 1:\n",
      "        for i in range(num):\n",
      "            q.enqueue(q.dequeue())\n",
      "        q.dequeue()\n",
      "    return q.dequeue()\n",
      "\n",
      "name = [\"Bill\",\"David\",\"Susan\",\"Jane\",\"Kent\",\"Brad\"]\n",
      "josephus(name,3)"
     ],
     "language": "python",
     "metadata": {},
     "outputs": [
      {
       "metadata": {},
       "output_type": "pyout",
       "prompt_number": 7,
       "text": [
        "'Kent'"
       ]
      }
     ],
     "prompt_number": 7
    },
    {
     "cell_type": "code",
     "collapsed": false,
     "input": [],
     "language": "python",
     "metadata": {},
     "outputs": []
    }
   ],
   "metadata": {}
  }
 ]
}