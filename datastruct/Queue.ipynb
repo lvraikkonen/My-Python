{
 "metadata": {
  "name": "",
  "signature": "sha256:d697cf0495340fa0e1ddde8952320dd834e67152cf99bbc4e01a2ef6fd36adbb"
 },
 "nbformat": 3,
 "nbformat_minor": 0,
 "worksheets": [
  {
   "cells": [
    {
     "cell_type": "heading",
     "level": 1,
     "metadata": {},
     "source": [
      "Queue & Queue Usages"
     ]
    },
    {
     "cell_type": "markdown",
     "metadata": {},
     "source": [
      "A queue is an ordered collection of items where the addition of new items happens at one end. The most recently added item in the queue must wait at the end of the collection. The item that has been in the collection the longest is at the front. This ordering principle is sometimes called FIFO, first-in first-out. "
     ]
    },
    {
     "cell_type": "heading",
     "level": 2,
     "metadata": {},
     "source": [
      "Queue implementation (Array)"
     ]
    },
    {
     "cell_type": "code",
     "collapsed": false,
     "input": [
      "class Queue:\n",
      "    def __init__(self):\n",
      "        self.data = []\n",
      "    \n",
      "    def isEmpty(self):\n",
      "        return self.data == []\n",
      "    \n",
      "    def enqueue(self,item):\n",
      "        self.data.insert(0,item)\n",
      "    \n",
      "    def dequeue(self):\n",
      "        if len(self.data)>0:\n",
      "            return self.data.pop()\n",
      "    \n",
      "    def size(self):\n",
      "        return len(self.data)\n",
      "\n",
      "q = Queue()\n",
      "q.enqueue(2)\n",
      "q.enqueue(3)\n",
      "q.enqueue('aaa')\n",
      "q.dequeue()\n",
      "q.size()"
     ],
     "language": "python",
     "metadata": {},
     "outputs": [
      {
       "metadata": {},
       "output_type": "pyout",
       "prompt_number": 6,
       "text": [
        "2"
       ]
      }
     ],
     "prompt_number": 6
    },
    {
     "cell_type": "heading",
     "level": 2,
     "metadata": {},
     "source": [
      "Josephus Circle"
     ]
    },
    {
     "cell_type": "markdown",
     "metadata": {},
     "source": [
      "\u7ea6\u745f\u592b\u73af\uff0c\u6570\u5230\u6570\u5b57`num`\u7684\u4eba\u9000\u51fa\uff0c\u6c42\u6700\u540e\u5269\u4e0b\u7684\u4eba"
     ]
    },
    {
     "cell_type": "code",
     "collapsed": false,
     "input": [
      "def josephus(namelist, num):\n",
      "    q = Queue()\n",
      "    for name in namelist:\n",
      "        q.enqueue(name)\n",
      "    \n",
      "    while q.size() > 1:\n",
      "        for i in range(num):\n",
      "            q.enqueue(q.dequeue())\n",
      "        q.dequeue()\n",
      "    return q.dequeue()\n",
      "\n",
      "name = [\"Bill\",\"David\",\"Susan\",\"Jane\",\"Kent\",\"Brad\"]\n",
      "josephus(name,3)"
     ],
     "language": "python",
     "metadata": {},
     "outputs": [
      {
       "metadata": {},
       "output_type": "pyout",
       "prompt_number": 7,
       "text": [
        "'Kent'"
       ]
      }
     ],
     "prompt_number": 7
    },
    {
     "cell_type": "heading",
     "level": 2,
     "metadata": {},
     "source": [
      "Queue implementation (Linked List)"
     ]
    },
    {
     "cell_type": "code",
     "collapsed": false,
     "input": [
      "class Node:\n",
      "    def __init__(self, data):\n",
      "        self.data = data\n",
      "        self.next = None\n",
      "    \n",
      "    def get_data(self):\n",
      "        return self.data\n",
      "    \n",
      "    def set_data(self, newdata):\n",
      "        self.data = newdata\n",
      "    \n",
      "    def get_next(self):\n",
      "        return self.next\n",
      "    \n",
      "    def set_next(self, newnext):\n",
      "        self.next = newnext"
     ],
     "language": "python",
     "metadata": {},
     "outputs": [],
     "prompt_number": 1
    },
    {
     "cell_type": "code",
     "collapsed": false,
     "input": [
      "class LinkedQueue:\n",
      "    def __init__(self):\n",
      "        ## empty queue\n",
      "        self.head = None\n",
      "        self.tail = None\n",
      "        self.size = 0\n",
      "    \n",
      "    def __len__(self):\n",
      "        return self.size\n",
      "    \n",
      "    def is_empty(self):\n",
      "        return self.size == 0\n",
      "    \n",
      "    def enqueue(self, item):\n",
      "        ## add an item to the back of queue\n",
      "        new = Node(item)\n",
      "        if self.is_empty():\n",
      "            self.head = new\n",
      "        else:\n",
      "            self.tail.set_next(new)\n",
      "        self.tail = new\n",
      "        self.size += 1\n",
      "    \n",
      "    def dequeue(self):\n",
      "        ## remove from head\n",
      "        if self.is_empty():\n",
      "            return \"Queue is empty\"\n",
      "        tmp = self.head.get_data()\n",
      "        self.head = self.head.get_next()\n",
      "        self.size -= 1\n",
      "        if self.is_empty():\n",
      "            self.tail = None\n",
      "        return tmp\n",
      "    \n",
      "    def first(self):\n",
      "        if self.is_empty():\n",
      "            return \"Queue is empty\"\n",
      "        return self.head.get_data()"
     ],
     "language": "python",
     "metadata": {},
     "outputs": [],
     "prompt_number": 3
    },
    {
     "cell_type": "code",
     "collapsed": false,
     "input": [
      "lq = LinkedQueue()\n",
      "lq.enqueue(1)\n",
      "lq.enqueue(2)\n",
      "print len(lq)\n",
      "print lq.first()\n",
      "print \"Dequeue item %d\" % lq.dequeue()"
     ],
     "language": "python",
     "metadata": {},
     "outputs": [
      {
       "output_type": "stream",
       "stream": "stdout",
       "text": [
        "2\n",
        "1\n",
        "Dequeue item 1\n"
       ]
      }
     ],
     "prompt_number": 5
    },
    {
     "cell_type": "code",
     "collapsed": false,
     "input": [],
     "language": "python",
     "metadata": {},
     "outputs": []
    }
   ],
   "metadata": {}
  }
 ]
}