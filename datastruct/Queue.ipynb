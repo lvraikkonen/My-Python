{
 "metadata": {
  "name": "",
  "signature": "sha256:1dbfde1111a72c62d910c627e977d8462ed9672e0453ac0c2358408eea4df38a"
 },
 "nbformat": 3,
 "nbformat_minor": 0,
 "worksheets": [
  {
   "cells": [
    {
     "cell_type": "heading",
     "level": 1,
     "metadata": {},
     "source": [
      "Queue & Queue Usages"
     ]
    },
    {
     "cell_type": "markdown",
     "metadata": {},
     "source": [
      "A queue is an ordered collection of items where the addition of new items happens at one end. The most recently added item in the queue must wait at the end of the collection. The item that has been in the collection the longest is at the front. This ordering principle is sometimes called FIFO, first-in first-out. "
     ]
    },
    {
     "cell_type": "heading",
     "level": 2,
     "metadata": {},
     "source": [
      "Queue implementation"
     ]
    },
    {
     "cell_type": "code",
     "collapsed": false,
     "input": [
      "class Queue:\n",
      "    def __init__(self):\n",
      "        self.data = []\n",
      "    \n",
      "    def isEmpty(self):\n",
      "        return self.data == []\n",
      "    \n",
      "    def enqueue(self,item):\n",
      "        self.data.insert(0,item)\n",
      "    \n",
      "    def dequeue(self):\n",
      "        if len(self.data)>0:\n",
      "            return self.data.pop()\n",
      "    \n",
      "    def size(self):\n",
      "        return len(self.data)\n",
      "\n",
      "q = Queue()\n",
      "q.enqueue(2)\n",
      "q.enqueue(3)\n",
      "q.enqueue('aaa')\n",
      "q.dequeue()\n",
      "q.size()"
     ],
     "language": "python",
     "metadata": {},
     "outputs": [
      {
       "metadata": {},
       "output_type": "pyout",
       "prompt_number": 6,
       "text": [
        "2"
       ]
      }
     ],
     "prompt_number": 6
    },
    {
     "cell_type": "heading",
     "level": 2,
     "metadata": {},
     "source": [
      "Josephus Circle"
     ]
    },
    {
     "cell_type": "code",
     "collapsed": false,
     "input": [],
     "language": "python",
     "metadata": {},
     "outputs": [],
     "prompt_number": 7
    },
    {
     "cell_type": "code",
     "collapsed": false,
     "input": [
      "def josephus(namelist, num):\n",
      "    q = Queue()\n",
      "    for name in namelist:\n",
      "        q.enqueue(name)\n",
      "    \n",
      "    while q.size() > 1:\n",
      "        for i in range(num):\n",
      "            q.enqueue(q.dequeue())\n",
      "        q.dequeue()\n",
      "    return q.dequeue()\n",
      "\n",
      "name = [\"Bill\",\"David\",\"Susan\",\"Jane\",\"Kent\",\"Brad\"]\n",
      "josephus(name,3)"
     ],
     "language": "python",
     "metadata": {},
     "outputs": [
      {
       "metadata": {},
       "output_type": "pyout",
       "prompt_number": 7,
       "text": [
        "'Kent'"
       ]
      }
     ],
     "prompt_number": 7
    },
    {
     "cell_type": "code",
     "collapsed": false,
     "input": [],
     "language": "python",
     "metadata": {},
     "outputs": []
    }
   ],
   "metadata": {}
  }
 ]
}