{
 "metadata": {
  "name": "",
  "signature": "sha256:ab8c651a112bbbd31a5a5a096600c25277d74055729a1e324d5761a1f7fdbe23"
 },
 "nbformat": 3,
 "nbformat_minor": 0,
 "worksheets": [
  {
   "cells": [
    {
     "cell_type": "heading",
     "level": 2,
     "metadata": {},
     "source": [
      "Bubble Sort:"
     ]
    },
    {
     "cell_type": "markdown",
     "metadata": {},
     "source": [
      "\u5728\u4e24\u5c42\u5faa\u73af\u91cc\uff0c\u5982\u679c\u6bd4\u540e\u9762\u5143\u7d20\u5927\uff0c\u5219\u4ea4\u6362\u4f4d\u7f6e"
     ]
    },
    {
     "cell_type": "code",
     "collapsed": false,
     "input": [
      "def bubble_sort(list):\n",
      "    for i in range(0,len(list)):\n",
      "        for j in range(i,len(list)):\n",
      "            if list[i] > list[j]:\n",
      "                list[i],list[j] = list[j],list[i]\n",
      "    return list\n",
      "\n",
      "l = range(10,0,-1)\n",
      "bubble_sort(l)"
     ],
     "language": "python",
     "metadata": {},
     "outputs": [
      {
       "metadata": {},
       "output_type": "pyout",
       "prompt_number": 1,
       "text": [
        "[1, 2, 3, 4, 5, 6, 7, 8, 9, 10]"
       ]
      }
     ],
     "prompt_number": 1
    },
    {
     "cell_type": "heading",
     "level": 2,
     "metadata": {},
     "source": [
      "Select Sort:"
     ]
    },
    {
     "cell_type": "markdown",
     "metadata": {},
     "source": [
      "\u5728\u6bcf\u4e2a\u56de\u5408\u4e2d\uff0c\u9009\u51fa\u5269\u4e0b\u5217\u8868\u4e2d\u6700\u5c0f\u7684\uff0c\u7136\u540e\u653e\u5728\u7b2c\u4e00\u4f4d"
     ]
    },
    {
     "cell_type": "code",
     "collapsed": false,
     "input": [
      "def select_sort(list):\n",
      "    for i in range(0,len(list)):\n",
      "        minindex = i\n",
      "        for j in range(i,len(list)):\n",
      "            if list[minindex] > list[j]:\n",
      "                minindex = j\n",
      "        list[i],list[minindex] = list[minindex],list[i]\n",
      "    return list\n",
      "\n",
      "l = range(10,0,-1)\n",
      "select_sort(l)"
     ],
     "language": "python",
     "metadata": {},
     "outputs": [
      {
       "metadata": {},
       "output_type": "pyout",
       "prompt_number": 2,
       "text": [
        "[1, 2, 3, 4, 5, 6, 7, 8, 9, 10]"
       ]
      }
     ],
     "prompt_number": 2
    },
    {
     "cell_type": "heading",
     "level": 2,
     "metadata": {},
     "source": [
      "Insert Sort:"
     ]
    },
    {
     "cell_type": "markdown",
     "metadata": {},
     "source": [
      "\u5047\u8bbe\u524d\u9762\u7684\u5143\u7d20\u90fd\u662f\u6392\u597d\u5e8f\u7684\uff0c\u628a\u5f85\u6392\u5e8f\u7684\u7b2c\u4e00\u4e2a\u5143\u7d20\u548c\u524d\u9762\u5df2\u6392\u5e8f\u7684\u5217\u8868\u5bf9\u6bd4\uff0c\u627e\u5230\u5408\u9002\u4f4d\u7f6e\u653e\u4e0b \u65f6\u95f4\u590d\u6742\u5ea6O(n^2)"
     ]
    },
    {
     "cell_type": "code",
     "collapsed": false,
     "input": [
      "def insert_sort(list):\n",
      "    for i in range(1,len(list)):\n",
      "        tmp = list[i]\n",
      "        j = i - 1\n",
      "        while j >=0 and tmp<list[j]:\n",
      "            list[j+1] = list[j]\n",
      "            j -= 1\n",
      "        list[j+1] = tmp\n",
      "    return list\n",
      "\n",
      "l = range(10,0,-1)\n",
      "insert_sort(l)"
     ],
     "language": "python",
     "metadata": {},
     "outputs": [
      {
       "metadata": {},
       "output_type": "pyout",
       "prompt_number": 1,
       "text": [
        "[1, 2, 3, 4, 5, 6, 7, 8, 9, 10]"
       ]
      }
     ],
     "prompt_number": 1
    },
    {
     "cell_type": "heading",
     "level": 3,
     "metadata": {},
     "source": [
      "\u4f7f\u7528\u4e8c\u5206\u67e5\u627e\u8fdb\u884c\u63d2\u5165\u6392\u5e8f"
     ]
    },
    {
     "cell_type": "markdown",
     "metadata": {},
     "source": [
      "\u5f85\u6392\u5e8f\u7684\u5143\u7d20\uff0c\u5728\u524d\u9762\u5df2\u6392\u5e8f\u7684\u5217\u8868\u4e2d\u627e\u5230\u4f4d\u7f6e"
     ]
    },
    {
     "cell_type": "code",
     "collapsed": false,
     "input": [
      "def insert_sort_binarysearch(alist):\n",
      "    for i in range(1, len(alist)):\n",
      "        tmp = alist[i]\n",
      "        # use binary search to find the place\n",
      "        first = 0\n",
      "        last = i - 1\n",
      "        while first <= last:\n",
      "            mid = (first + last) // 2\n",
      "            if alist[mid] > tmp:\n",
      "                # go to left\n",
      "                last = mid - 1\n",
      "            else:\n",
      "                first = mid + 1\n",
      "        while i > first:\n",
      "            # move backward\n",
      "            alist[i] = alist[i-1]\n",
      "            i -= 1\n",
      "        alist[i] = tmp\n",
      "    return alist\n",
      "\n",
      "l = range(10,0,-1)\n",
      "insert_sort_binarysearch(l)"
     ],
     "language": "python",
     "metadata": {},
     "outputs": [
      {
       "metadata": {},
       "output_type": "pyout",
       "prompt_number": 3,
       "text": [
        "[1, 2, 3, 4, 5, 6, 7, 8, 9, 10]"
       ]
      }
     ],
     "prompt_number": 3
    },
    {
     "cell_type": "heading",
     "level": 2,
     "metadata": {},
     "source": [
      "Merge Sort:"
     ]
    },
    {
     "cell_type": "markdown",
     "metadata": {},
     "source": [
      "\u628a\u4e24\u4e2a\u5df2\u6392\u5e8f\u7684\u5217\u8868\uff0c\u6309\u7167\u5927\u5c0f\u987a\u5e8f\u5408\u5e76\u6210\u4e00\u4e2a\u5217\u8868 \u65f6\u95f4\u590d\u6742\u5ea6O(nlogn)"
     ]
    },
    {
     "cell_type": "code",
     "collapsed": false,
     "input": [
      "def merge_sort(list):\n",
      "    if len(list) <=1:\n",
      "        return list\n",
      "    mid = len(list)/2\n",
      "    left = merge_sort(list[:mid])\n",
      "    right = merge_sort(list[mid:])\n",
      "    \n",
      "    result = []\n",
      "    while len(left)>0 and len(right)>0:\n",
      "        if left[0] < right[0]:\n",
      "            result.append(left.pop(0))\n",
      "        else:\n",
      "            result.append(right.pop(0))\n",
      "    result += left\n",
      "    result += right\n",
      "    \n",
      "    return result\n",
      "\n",
      "l = range(10,0,-1)\n",
      "merge_sort(l)"
     ],
     "language": "python",
     "metadata": {},
     "outputs": [
      {
       "metadata": {},
       "output_type": "pyout",
       "prompt_number": 3,
       "text": [
        "[1, 2, 3, 4, 5, 6, 7, 8, 9, 10]"
       ]
      }
     ],
     "prompt_number": 3
    },
    {
     "cell_type": "heading",
     "level": 2,
     "metadata": {},
     "source": [
      "\u5feb\u901f\u6392\u5e8f Quick Sort"
     ]
    },
    {
     "cell_type": "code",
     "collapsed": false,
     "input": [],
     "language": "python",
     "metadata": {},
     "outputs": []
    }
   ],
   "metadata": {}
  }
 ]
}