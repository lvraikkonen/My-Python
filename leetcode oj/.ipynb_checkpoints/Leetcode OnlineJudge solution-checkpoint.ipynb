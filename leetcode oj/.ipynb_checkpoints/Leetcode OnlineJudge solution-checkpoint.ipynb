{
 "metadata": {
  "signature": "sha256:c57a8fe6efe5755bcca737720353e9aaa70c4b2ade7176906ff8e459f84457fa"
 },
 "nbformat": 3,
 "nbformat_minor": 0,
 "worksheets": [
  {
   "cells": [
    {
     "cell_type": "heading",
     "level": 1,
     "metadata": {},
     "source": [
      "Excel Sheet Column Title"
     ]
    },
    {
     "cell_type": "markdown",
     "metadata": {},
     "source": [
      "26\u8fdb\u5236\uff0c\u4ece\u540e\u5f80\u524d\u6c42\u51fa\u6bcf\u4e00\u4f4d\u7684\u5b57\u7b26\uff0c\u7136\u540e\u53cd\u8f6c\u3002\u5229\u7528\u2018A\u2019\u7684ASCII\u7801\u52a0\u4e0a\u4f59\u6570\uff0c\u6c42\u51fa\u76f8\u5e94\u5b57\u7b26"
     ]
    },
    {
     "cell_type": "code",
     "collapsed": false,
     "input": [
      "def convert2title(num):\n",
      "    if num <= 0:\n",
      "        return \"\"\n",
      "    title = \"\"\n",
      "    while num > 0:\n",
      "        num -= 1\n",
      "        mod = num % 26\n",
      "        num /= 26\n",
      "        title += chr(ord('A') + mod)\n",
      "    # reverse\n",
      "    return title[::-1]\n",
      "print convert2title(28)"
     ],
     "language": "python",
     "metadata": {},
     "outputs": [
      {
       "output_type": "stream",
       "stream": "AB\n",
       "text": [
        "AB\n"
       ]
      }
     ],
     "prompt_number": 3
    },
    {
     "cell_type": "heading",
     "level": 1,
     "metadata": {},
     "source": [
      "Min Stack"
     ]
    },
    {
     "cell_type": "markdown",
     "metadata": {},
     "source": [
      "\u7528\u5e38\u6570\u65f6\u95f4\uff0c\u53d6\u51fa\u6808\u4e2d\u6700\u5c0f\u503c\u3002\u7528\u6700\u5c0f\u6808\u4fdd\u5b58\u6700\u5c0f\u503c\u4fe1\u606f"
     ]
    },
    {
     "cell_type": "code",
     "collapsed": false,
     "input": [
      "class MinStack:\n",
      "    def __init__(self):\n",
      "        self.data = []\n",
      "        self.min_data = []\n",
      "        \n",
      "    def push(self, item):\n",
      "        self.data.append(item)\n",
      "        if not self.min_data or item <= self.min_data[-1]:\n",
      "            self.min_data.append(item)\n",
      "    \n",
      "    def pop(self):\n",
      "        if self.data:\n",
      "            item = self.data.pop()\n",
      "            if item == self.min_data[-1]:\n",
      "                self.min_data.pop()\n",
      "    \n",
      "    def top(self):\n",
      "        if self.data:\n",
      "            return self.data[-1]\n",
      "    \n",
      "    def get_min(self):\n",
      "        if self.min_data:\n",
      "            return self.min_data[-1]\n",
      "\n",
      "ms = MinStack()\n",
      "ms.push(2)\n",
      "ms.push(0)\n",
      "ms.push(0)\n",
      "ms.push(3)\n",
      "print ms.getMin()\n",
      "ms.pop()\n",
      "ms.pop()\n",
      "print ms.getMin()\n",
      "print ms.min_data"
     ],
     "language": "python",
     "metadata": {},
     "outputs": [
      {
       "output_type": "stream",
       "stream": "0\n0\n[2, 0]\n",
       "text": [
        "0\n",
        "0\n",
        "[2, 0]\n"
       ]
      }
     ],
     "prompt_number": 12
    },
    {
     "cell_type": "heading",
     "level": 1,
     "metadata": {},
     "source": [
      "Remove Duplicates from Sorted Array"
     ]
    },
    {
     "cell_type": "code",
     "collapsed": false,
     "input": [],
     "language": "python",
     "metadata": {},
     "outputs": [],
     "prompt_number": 13
    },
    {
     "cell_type": "heading",
     "level": 1,
     "metadata": {},
     "source": [
      "Reverse Words in a String"
     ]
    },
    {
     "cell_type": "code",
     "collapsed": false,
     "input": [
      "def reverse_words(s):\n",
      "    l = s.strip().split(' ')\n",
      "    l.reverse()\n",
      "    return ' '.join(l)\n",
      "print reverseWords('Hello world')"
     ],
     "language": "python",
     "metadata": {},
     "outputs": [
      {
       "output_type": "stream",
       "stream": "world Hello\n",
       "text": [
        "world Hello\n"
       ]
      }
     ],
     "prompt_number": 14
    },
    {
     "cell_type": "heading",
     "level": 1,
     "metadata": {},
     "source": [
      "Valid Palindrome"
     ]
    },
    {
     "cell_type": "markdown",
     "metadata": {},
     "source": [
      "\u56de\u6587\uff0c\u6b63\u7740\u5ff5\uff0c\u53cd\u7740\u5ff5\u90fd\u4e00\u6837\uff0c\u53ea\u8003\u8651\u5b57\u6bcd\u548c\u6570\u5b57"
     ]
    },
    {
     "cell_type": "code",
     "collapsed": false,
     "input": [
      "def valid_palindrome(s):\n",
      "    l, r = 0, len(s) - 1\n",
      "    while l < r:\n",
      "        # only digit and alpha from left\n",
      "        while l < r and not(s[l].isdigit() or s[l].isalpha()):\n",
      "            l += 1\n",
      "        # only digit and alpha from right\n",
      "        while l < r and not(s[r].isdigit() or s[r].isalpha()):\n",
      "            r -= 1\n",
      "        if s[l].lower() != s[r].lower():\n",
      "            return False\n",
      "        l, r = l + 1, r - 1\n",
      "    return True\n",
      "\n",
      "print valid_palindrome('radar.')"
     ],
     "language": "python",
     "metadata": {},
     "outputs": [
      {
       "output_type": "stream",
       "stream": "True\n",
       "text": [
        "True\n"
       ]
      }
     ],
     "prompt_number": 17
    },
    {
     "cell_type": "heading",
     "level": 1,
     "metadata": {},
     "source": [
      "String to Integer"
     ]
    },
    {
     "cell_type": "code",
     "collapsed": false,
     "input": [
      "def str2int(s):\n",
      "    s = s.strip()\n",
      "    end = \"\"\n",
      "    for i, val in enumerate(s):\n",
      "        if val in ['+', '-'] and i == 0:\n",
      "            end += val\n",
      "        elif val.isdigit():\n",
      "            end += val\n",
      "        else:\n",
      "            break\n",
      "    # only + or -\n",
      "    if end in ['+', '-']:\n",
      "        end = \"\"\n",
      "    end = int(end) if end else 0\n",
      "    if end > 2147483647: \n",
      "        return 2147483647\n",
      "    if end < -2147483648:\n",
      "        return -2147483648\n",
      "    return end\n",
      "\n",
      "print str2int('  +-4145r')"
     ],
     "language": "python",
     "metadata": {},
     "outputs": [
      {
       "output_type": "stream",
       "stream": "0\n",
       "text": [
        "0\n"
       ]
      }
     ],
     "prompt_number": 20
    },
    {
     "cell_type": "heading",
     "level": 1,
     "metadata": {},
     "source": [
      "Valid Parentheses"
     ]
    },
    {
     "cell_type": "code",
     "collapsed": false,
     "input": [
      "def valid_parentheses(s):\n",
      "    push_set = ['(', '{', '[']\n",
      "    pop_set = [')', '}', ']']\n",
      "    pair = dict(zip(push_set, pop_set))\n",
      "    \n",
      "    stack = []\n",
      "    for element in s:\n",
      "        if element in push_set:\n",
      "            stack.append(pair[element])\n",
      "        elif element in pop_set:\n",
      "            if not stack or element != stack.pop():\n",
      "                return False\n",
      "    if stack:\n",
      "        return False\n",
      "    else:\n",
      "        return True\n",
      "\n",
      "print valid_parentheses('[()]')"
     ],
     "language": "python",
     "metadata": {},
     "outputs": [
      {
       "output_type": "stream",
       "stream": "True\n",
       "text": [
        "True\n"
       ]
      }
     ],
     "prompt_number": 23
    },
    {
     "cell_type": "code",
     "collapsed": false,
     "input": [
      "%matplotlib inline"
     ],
     "language": "python",
     "metadata": {},
     "outputs": [],
     "prompt_number": 1
    },
    {
     "cell_type": "markdown",
     "metadata": {},
     "source": [
      "should start ipython notebook entering --pylab inline \"ipython notebook --pylab inline\""
     ]
    },
    {
     "cell_type": "heading",
     "level": 1,
     "metadata": {},
     "source": [
      "Trailing Zeros"
     ]
    },
    {
     "cell_type": "markdown",
     "metadata": {},
     "source": [
      "\u6c42\u51fan\u7684\u9636\u4e58\u7ed3\u679c\u4e2d\uff0c\u672b\u5c3e\u4e3a0\u7684\u4e2a\u6570\u30022*5 = 10\uff0c\u6240\u4ee5\u6c42\u51fa2\u4e0e5\u7684\u4e2a\u6570\u5373\u53ef\uff0c\u7531\u4e8e2\u80fd\u88ab2\u30014\u30016\u30018\u3002\u3002\u3002\u5f88\u591a\u6570\u6574\u9664\uff0c\u6240\u4ee5\uff0c\u53ea\u9700\u8003\u86515\u7684\u4e2a\u6570"
     ]
    },
    {
     "cell_type": "markdown",
     "metadata": {},
     "source": [
      "\u6c42\u6cd5\u8fc7\u7a0b\uff1a\n",
      "1. Take the number that you've been given the factorial of.\n",
      "2. Divide by 5; if you get a decimal, truncate to a whole number.\n",
      "3. Divide by 5**2 = 25; if you get a decimal, truncate to a whole number.\n",
      "4. Divide by 5**3 = 125; if you get a decimal, truncate to a whole number.\n",
      "5. Continue with ever-higher powers of 5, until your division results in a number less than 1. Once the division is less than 1, stop.\n",
      "6. Sum all the whole numbers you got in your divisions. This is the number of trailing zeroes."
     ]
    },
    {
     "cell_type": "markdown",
     "metadata": {},
     "source": [
      "1.  4617 \u00f7 5 = 923.4, so I get 923 factors of 5\n",
      "2.  4617 \u00f7 25 = 184.68, so I get 184 additional factors of 5\n",
      "3.  4617 \u00f7 125 = 36.936, so I get 36 additional factors of 5\n",
      "4.  4617 \u00f7 625 = 7.3872, so I get 7 additional factors of 5\n",
      "5.  4617 \u00f7 3125 = 1.47744, so I get 1 more factor of 5\n",
      "6.  4617 \u00f7 15625 = 0.295488, which is less than 1, so I stop here."
     ]
    },
    {
     "cell_type": "code",
     "collapsed": false,
     "input": [
      "def trailing_zeros(num):\n",
      "    result = 0\n",
      "    while num >= 5:\n",
      "        result += num / 5\n",
      "        num /= 5\n",
      "    return result\n",
      "\n",
      "trailing_zeros(4617)"
     ],
     "language": "python",
     "metadata": {},
     "outputs": [
      {
       "metadata": {},
       "output_type": "pyout",
       "prompt_number": 1,
       "text": [
        "1151"
       ]
      }
     ],
     "prompt_number": 1
    },
    {
     "cell_type": "code",
     "collapsed": false,
     "input": [],
     "language": "python",
     "metadata": {},
     "outputs": []
    }
   ],
   "metadata": {}
  }
 ]
}