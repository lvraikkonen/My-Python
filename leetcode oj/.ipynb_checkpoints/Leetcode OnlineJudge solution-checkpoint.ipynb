{
 "metadata": {
  "signature": "sha256:34b8b73cae4cc18a7c589df91f115640773959237efd835eb340203d3ca1ca4d"
 },
 "nbformat": 3,
 "nbformat_minor": 0,
 "worksheets": [
  {
   "cells": [
    {
     "cell_type": "heading",
     "level": 1,
     "metadata": {},
     "source": [
      "Excel Sheet Column Title"
     ]
    },
    {
     "cell_type": "markdown",
     "metadata": {},
     "source": [
      "26\u8fdb\u5236\uff0c\u4ece\u540e\u5f80\u524d\u6c42\u51fa\u6bcf\u4e00\u4f4d\u7684\u5b57\u7b26\uff0c\u7136\u540e\u53cd\u8f6c\u3002\u5229\u7528\u2018A\u2019\u7684ASCII\u7801\u52a0\u4e0a\u4f59\u6570\uff0c\u6c42\u51fa\u76f8\u5e94\u5b57\u7b26"
     ]
    },
    {
     "cell_type": "code",
     "collapsed": false,
     "input": [
      "def convert2title(num):\n",
      "    if num <= 0:\n",
      "        return \"\"\n",
      "    title = \"\"\n",
      "    while num > 0:\n",
      "        num -= 1\n",
      "        mod = num % 26\n",
      "        num /= 26\n",
      "        title += chr(ord('A') + mod)\n",
      "    # reverse\n",
      "    return title[::-1]\n",
      "print convert2title(28)"
     ],
     "language": "python",
     "metadata": {},
     "outputs": [
      {
       "output_type": "stream",
       "stream": "AB\n",
       "text": [
        "AB\n"
       ]
      }
     ],
     "prompt_number": 3
    },
    {
     "cell_type": "heading",
     "level": 1,
     "metadata": {},
     "source": [
      "Excel Sheet Column Number "
     ]
    },
    {
     "cell_type": "markdown",
     "metadata": {},
     "source": [
      "\u5c0626\u8fdb\u5236\u6570\u8f6c\u6362\u4e3a10\u8fdb\u5236"
     ]
    },
    {
     "cell_type": "code",
     "collapsed": false,
     "input": [
      "def title2number(s):\n",
      "    result = 0\n",
      "    index = 0\n",
      "    for c in s[::-1]:\n",
      "        result += (ord(c)-ord('A')+1) * (26**index)\n",
      "        index += 1\n",
      "    return result\n",
      "\n",
      "print title2number('AB')"
     ],
     "language": "python",
     "metadata": {},
     "outputs": [
      {
       "output_type": "stream",
       "stream": "stdout",
       "text": [
        "28\n"
       ]
      }
     ],
     "prompt_number": 2
    },
    {
     "cell_type": "heading",
     "level": 1,
     "metadata": {},
     "source": [
      "Min Stack"
     ]
    },
    {
     "cell_type": "markdown",
     "metadata": {},
     "source": [
      "\u7528\u5e38\u6570\u65f6\u95f4\uff0c\u53d6\u51fa\u6808\u4e2d\u6700\u5c0f\u503c\u3002\u7528\u6700\u5c0f\u6808\u4fdd\u5b58\u6700\u5c0f\u503c\u4fe1\u606f"
     ]
    },
    {
     "cell_type": "code",
     "collapsed": false,
     "input": [
      "class MinStack:\n",
      "    def __init__(self):\n",
      "        self.data = []\n",
      "        self.min_data = []\n",
      "        \n",
      "    def push(self, item):\n",
      "        self.data.append(item)\n",
      "        if not self.min_data or item <= self.min_data[-1]:\n",
      "            self.min_data.append(item)\n",
      "    \n",
      "    def pop(self):\n",
      "        if self.data:\n",
      "            item = self.data.pop()\n",
      "            if item == self.min_data[-1]:\n",
      "                self.min_data.pop()\n",
      "    \n",
      "    def top(self):\n",
      "        if self.data:\n",
      "            return self.data[-1]\n",
      "    \n",
      "    def get_min(self):\n",
      "        if self.min_data:\n",
      "            return self.min_data[-1]\n",
      "\n",
      "ms = MinStack()\n",
      "ms.push(2)\n",
      "ms.push(0)\n",
      "ms.push(0)\n",
      "ms.push(3)\n",
      "print ms.getMin()\n",
      "ms.pop()\n",
      "ms.pop()\n",
      "print ms.getMin()\n",
      "print ms.min_data"
     ],
     "language": "python",
     "metadata": {},
     "outputs": [
      {
       "output_type": "stream",
       "stream": "0\n0\n[2, 0]\n",
       "text": [
        "0\n",
        "0\n",
        "[2, 0]\n"
       ]
      }
     ],
     "prompt_number": 12
    },
    {
     "cell_type": "heading",
     "level": 1,
     "metadata": {},
     "source": [
      "Remove Duplicates from Sorted Array"
     ]
    },
    {
     "cell_type": "code",
     "collapsed": false,
     "input": [],
     "language": "python",
     "metadata": {},
     "outputs": [],
     "prompt_number": 13
    },
    {
     "cell_type": "heading",
     "level": 1,
     "metadata": {},
     "source": [
      "Reverse Words in a String"
     ]
    },
    {
     "cell_type": "code",
     "collapsed": false,
     "input": [
      "def reverse_words(s):\n",
      "    l = s.strip().split(' ')\n",
      "    l.reverse()\n",
      "    return ' '.join(l)\n",
      "print reverseWords('Hello world')"
     ],
     "language": "python",
     "metadata": {},
     "outputs": [
      {
       "output_type": "stream",
       "stream": "world Hello\n",
       "text": [
        "world Hello\n"
       ]
      }
     ],
     "prompt_number": 14
    },
    {
     "cell_type": "heading",
     "level": 1,
     "metadata": {},
     "source": [
      "Valid Palindrome"
     ]
    },
    {
     "cell_type": "markdown",
     "metadata": {},
     "source": [
      "\u56de\u6587\uff0c\u6b63\u7740\u5ff5\uff0c\u53cd\u7740\u5ff5\u90fd\u4e00\u6837\uff0c\u53ea\u8003\u8651\u5b57\u6bcd\u548c\u6570\u5b57"
     ]
    },
    {
     "cell_type": "code",
     "collapsed": false,
     "input": [
      "def valid_palindrome(s):\n",
      "    l, r = 0, len(s) - 1\n",
      "    while l < r:\n",
      "        # only digit and alpha from left\n",
      "        while l < r and not(s[l].isdigit() or s[l].isalpha()):\n",
      "            l += 1\n",
      "        # only digit and alpha from right\n",
      "        while l < r and not(s[r].isdigit() or s[r].isalpha()):\n",
      "            r -= 1\n",
      "        if s[l].lower() != s[r].lower():\n",
      "            return False\n",
      "        l, r = l + 1, r - 1\n",
      "    return True\n",
      "\n",
      "print valid_palindrome('radar.')"
     ],
     "language": "python",
     "metadata": {},
     "outputs": [
      {
       "output_type": "stream",
       "stream": "True\n",
       "text": [
        "True\n"
       ]
      }
     ],
     "prompt_number": 17
    },
    {
     "cell_type": "heading",
     "level": 1,
     "metadata": {},
     "source": [
      "String to Integer"
     ]
    },
    {
     "cell_type": "code",
     "collapsed": false,
     "input": [
      "def str2int(s):\n",
      "    s = s.strip()\n",
      "    end = \"\"\n",
      "    for i, val in enumerate(s):\n",
      "        if val in ['+', '-'] and i == 0:\n",
      "            end += val\n",
      "        elif val.isdigit():\n",
      "            end += val\n",
      "        else:\n",
      "            break\n",
      "    # only + or -\n",
      "    if end in ['+', '-']:\n",
      "        end = \"\"\n",
      "    end = int(end) if end else 0\n",
      "    if end > 2147483647: \n",
      "        return 2147483647\n",
      "    if end < -2147483648:\n",
      "        return -2147483648\n",
      "    return end\n",
      "\n",
      "print str2int('  +-4145r')"
     ],
     "language": "python",
     "metadata": {},
     "outputs": [
      {
       "output_type": "stream",
       "stream": "0\n",
       "text": [
        "0\n"
       ]
      }
     ],
     "prompt_number": 20
    },
    {
     "cell_type": "heading",
     "level": 1,
     "metadata": {},
     "source": [
      "Valid Parentheses"
     ]
    },
    {
     "cell_type": "markdown",
     "metadata": {},
     "source": [
      "\u62ec\u53f7\u5339\u914d"
     ]
    },
    {
     "cell_type": "code",
     "collapsed": false,
     "input": [
      "def valid_parentheses(s):\n",
      "    push_set = ['(', '{', '[']\n",
      "    pop_set = [')', '}', ']']\n",
      "    pair = dict(zip(push_set, pop_set))\n",
      "    \n",
      "    stack = []\n",
      "    for element in s:\n",
      "        if element in push_set:\n",
      "            stack.append(pair[element])\n",
      "        elif element in pop_set:\n",
      "            if not stack or element != stack.pop():\n",
      "                return False\n",
      "    if stack:\n",
      "        return False\n",
      "    else:\n",
      "        return True\n",
      "\n",
      "print valid_parentheses('[()]')"
     ],
     "language": "python",
     "metadata": {},
     "outputs": [
      {
       "output_type": "stream",
       "stream": "stdout",
       "text": [
        "True\n"
       ]
      }
     ],
     "prompt_number": 9
    },
    {
     "cell_type": "heading",
     "level": 1,
     "metadata": {},
     "source": [
      "Trailing Zeros"
     ]
    },
    {
     "cell_type": "markdown",
     "metadata": {},
     "source": [
      "\u6c42\u51fan\u7684\u9636\u4e58\u7ed3\u679c\u4e2d\uff0c\u672b\u5c3e\u4e3a0\u7684\u4e2a\u6570\u30022*5 = 10\uff0c\u6240\u4ee5\u6c42\u51fa2\u4e0e5\u7684\u4e2a\u6570\u5373\u53ef\uff0c\u7531\u4e8e2\u80fd\u88ab2\u30014\u30016\u30018\u3002\u3002\u3002\u5f88\u591a\u6570\u6574\u9664\uff0c\u6240\u4ee5\uff0c\u53ea\u9700\u8003\u86515\u7684\u4e2a\u6570"
     ]
    },
    {
     "cell_type": "markdown",
     "metadata": {},
     "source": [
      "\u6c42\u6cd5\u8fc7\u7a0b\uff1a\n",
      "1. Take the number that you've been given the factorial of.\n",
      "2. Divide by 5; if you get a decimal, truncate to a whole number.\n",
      "3. Divide by 5**2 = 25; if you get a decimal, truncate to a whole number.\n",
      "4. Divide by 5**3 = 125; if you get a decimal, truncate to a whole number.\n",
      "5. Continue with ever-higher powers of 5, until your division results in a number less than 1. Once the division is less than 1, stop.\n",
      "6. Sum all the whole numbers you got in your divisions. This is the number of trailing zeroes."
     ]
    },
    {
     "cell_type": "markdown",
     "metadata": {},
     "source": [
      "1.  4617 \u00f7 5 = 923.4, so I get 923 factors of 5\n",
      "2.  4617 \u00f7 25 = 184.68, so I get 184 additional factors of 5\n",
      "3.  4617 \u00f7 125 = 36.936, so I get 36 additional factors of 5\n",
      "4.  4617 \u00f7 625 = 7.3872, so I get 7 additional factors of 5\n",
      "5.  4617 \u00f7 3125 = 1.47744, so I get 1 more factor of 5\n",
      "6.  4617 \u00f7 15625 = 0.295488, which is less than 1, so I stop here."
     ]
    },
    {
     "cell_type": "code",
     "collapsed": false,
     "input": [
      "def trailing_zeros(num):\n",
      "    result = 0\n",
      "    while num >= 5:\n",
      "        result += num / 5\n",
      "        num /= 5\n",
      "    return result\n",
      "\n",
      "print trailing_zeros(5)\n",
      "print trailing_zeros(4617)"
     ],
     "language": "python",
     "metadata": {},
     "outputs": [
      {
       "output_type": "stream",
       "stream": "stdout",
       "text": [
        "1\n",
        "1151\n"
       ]
      }
     ],
     "prompt_number": 3
    },
    {
     "cell_type": "heading",
     "level": 1,
     "metadata": {},
     "source": [
      "\u6700\u957f\u5347\u5e8f\u5b50\u4e32"
     ]
    },
    {
     "cell_type": "code",
     "collapsed": false,
     "input": [
      "def find_longest_substring(s):\n",
      "    if s is None or len(s) <= 1:\n",
      "        return s\n",
      "    longest = test = s[0]\n",
      "    for i in range(1, len(s)):\n",
      "        if s[i] > s[i-1]:\n",
      "            test += s[i] # ascending\n",
      "        else:\n",
      "            if len(longest) < len(test):\n",
      "                longest = test\n",
      "            test = s[i] # re-search\n",
      "    # all ascending\n",
      "    if len(longest) < len(test):\n",
      "        longest = test\n",
      "    return longest\n",
      "\n",
      "print find_longest_substring('abcdefg')\n",
      "print find_longest_substring('ivbqeovqecnjdvacads')"
     ],
     "language": "python",
     "metadata": {},
     "outputs": [
      {
       "output_type": "stream",
       "stream": "stdout",
       "text": [
        "abcdefg\n",
        "eov\n"
       ]
      }
     ],
     "prompt_number": 1
    },
    {
     "cell_type": "heading",
     "level": 1,
     "metadata": {},
     "source": [
      "Remove Element \u5220\u9664(\u8f6f\u5220\u9664)\u7ed9\u5b9a\u7684\u503c\uff0c\u8fd4\u56de\u65b0\u5217\u8868\u957f\u5ea6"
     ]
    },
    {
     "cell_type": "code",
     "collapsed": false,
     "input": [
      "def remove_element(A, elem):\n",
      "    first, last = 0, len(A)-1\n",
      "    while first <= last:\n",
      "        if A[first] == elem:\n",
      "            # move that element at end of list\n",
      "            A[first], A[last] = A[last], A[first]\n",
      "            last -= 1\n",
      "        else:\n",
      "            first += 1\n",
      "    return last + 1\n",
      "\n",
      "remove_element([1,2,4,5,2], 2)"
     ],
     "language": "python",
     "metadata": {},
     "outputs": [
      {
       "metadata": {},
       "output_type": "pyout",
       "prompt_number": 20,
       "text": [
        "3"
       ]
      }
     ],
     "prompt_number": 20
    },
    {
     "cell_type": "markdown",
     "metadata": {},
     "source": [
      "\u53e6\u5916\u4e00\u79cd\u65b9\u6cd5\uff1a"
     ]
    },
    {
     "cell_type": "code",
     "collapsed": false,
     "input": [
      "def remove_element(A, elem):\n",
      "    j = 0\n",
      "    for i in range(len(A)):\n",
      "        if A[i] != elem:\n",
      "            A[j] = A[i]\n",
      "            j += 1\n",
      "    return j\n",
      "\n",
      "print remove_element([1,2,3,4,2], 2)"
     ],
     "language": "python",
     "metadata": {},
     "outputs": [
      {
       "output_type": "stream",
       "stream": "stdout",
       "text": [
        "3\n"
       ]
      }
     ],
     "prompt_number": 21
    },
    {
     "cell_type": "heading",
     "level": 1,
     "metadata": {},
     "source": [
      "\u9006\u6ce2\u5170\u8868\u8fbe\u5f0f"
     ]
    },
    {
     "cell_type": "markdown",
     "metadata": {},
     "source": [
      "\u4f7f\u7528\u6808\uff1a"
     ]
    },
    {
     "cell_type": "code",
     "collapsed": false,
     "input": [
      "def evalRPN(tokens):\n",
      "    stack = []\n",
      "    result = 0\n",
      "    for token in tokens:\n",
      "        if token in '+-*/':\n",
      "            result = calculate(token, int(stack.pop()), int(stack.pop()))\n",
      "            stack.append(result)\n",
      "        else:\n",
      "            stack.append(int(token))\n",
      "    return stack.pop()\n",
      "\n",
      "def calculate(token, m, n):\n",
      "    if token.__eq__('+'):\n",
      "        return m + n\n",
      "    elif token.__eq__('-'):\n",
      "        return m - n\n",
      "    elif token.__eq__('*'):\n",
      "        return m * n\n",
      "    elif token.__eq__('/'):\n",
      "        return float(m) / float(n)\n",
      "\n",
      "print evalRPN([\"2\", \"1\", \"+\", \"3\", \"*\"])"
     ],
     "language": "python",
     "metadata": {},
     "outputs": [
      {
       "output_type": "stream",
       "stream": "stdout",
       "text": [
        "9\n"
       ]
      }
     ],
     "prompt_number": 4
    },
    {
     "cell_type": "heading",
     "level": 1,
     "metadata": {},
     "source": [
      "Length of Last Word"
     ]
    },
    {
     "cell_type": "code",
     "collapsed": false,
     "input": [
      "def length_last_word(s):\n",
      "    s = s.strip()\n",
      "    lst = s.split(' ')\n",
      "    if len(lst) == 0:\n",
      "        return 0\n",
      "    else:\n",
      "        return len(lst[-1])\n",
      "\n",
      "print length_last_word(\"Hello world!\")"
     ],
     "language": "python",
     "metadata": {},
     "outputs": [
      {
       "output_type": "stream",
       "stream": "stdout",
       "text": [
        "6\n"
       ]
      }
     ],
     "prompt_number": 5
    },
    {
     "cell_type": "heading",
     "level": 1,
     "metadata": {},
     "source": [
      "Compare Version Numbers \u6bd4\u8f83\u7248\u672c\u53f7\u5927\u5c0f"
     ]
    },
    {
     "cell_type": "markdown",
     "metadata": {},
     "source": [
      "- v1 > v2 return 1\n",
      "- v1 < v2 return -1\n",
      "- v1 = v2 return 0"
     ]
    },
    {
     "cell_type": "code",
     "collapsed": false,
     "input": [
      "def compare_version(version1, version2):\n",
      "    v1 = version1.split('.')\n",
      "    v2 = version2.split('.')\n",
      "    max_len = max(len(v1), len(v2))\n",
      "    for i in range(max_len):\n",
      "        v1Token, v2Token = 0, 0\n",
      "        if i < len(v1):\n",
      "            v1Token = int(v1[i])\n",
      "        if i < len(v2):\n",
      "            v2Token = int(v2[i])\n",
      "        if v1Token > v2Token:\n",
      "            return 1\n",
      "        if v1Token < v2Token:\n",
      "            return -1\n",
      "    return 0\n",
      "\n",
      "print compare_version('1.1','1.2')"
     ],
     "language": "python",
     "metadata": {},
     "outputs": [
      {
       "output_type": "stream",
       "stream": "stdout",
       "text": [
        "-1\n"
       ]
      }
     ],
     "prompt_number": 41
    },
    {
     "cell_type": "heading",
     "level": 1,
     "metadata": {},
     "source": [
      "Pow(x, n)"
     ]
    },
    {
     "cell_type": "markdown",
     "metadata": {},
     "source": [
      "\u666e\u901a\u9012\u5f52\u89e3\u6cd5\uff1a"
     ]
    },
    {
     "cell_type": "code",
     "collapsed": false,
     "input": [
      "def pow(x, n):\n",
      "    if n < 0:\n",
      "        return 1.0 / pow(x, -n)\n",
      "    elif n == 0:\n",
      "        return 1.0\n",
      "    else:\n",
      "        return x * pow(x, n-1)\n",
      "print pow(2, 3)"
     ],
     "language": "python",
     "metadata": {},
     "outputs": [
      {
       "output_type": "stream",
       "stream": "stdout",
       "text": [
        "8.0\n"
       ]
      }
     ],
     "prompt_number": 7
    },
    {
     "cell_type": "markdown",
     "metadata": {},
     "source": [
      "\u4e8c\u5206\u6cd5\u9012\u5f52\u89e3\u6cd5\uff1a\n",
      "- pow(x, n) = pow(x, n/2) ** 2 (n\u4e3a\u5076\u6570)\n",
      "- pow(x, n) = x * pow(x, n/2) ** 2 (n\u4e3a\u5947\u6570)"
     ]
    },
    {
     "cell_type": "code",
     "collapsed": false,
     "input": [
      "def pow_binary(x, n):\n",
      "    if n < 0:\n",
      "        return 1.0 / pow_binary(x, -n)\n",
      "    elif n == 0:\n",
      "        return 1.0\n",
      "    else:\n",
      "        if n % 2 == 0:\n",
      "            return pow_binary(x, n//2) ** 2\n",
      "        else:\n",
      "            return x * pow_binary(x, n//2) ** 2\n",
      "print pow_binary(2, 3)"
     ],
     "language": "python",
     "metadata": {},
     "outputs": [
      {
       "output_type": "stream",
       "stream": "stdout",
       "text": [
        "8.0\n"
       ]
      }
     ],
     "prompt_number": 8
    },
    {
     "cell_type": "heading",
     "level": 1,
     "metadata": {},
     "source": [
      "\u6c42sqrt"
     ]
    },
    {
     "cell_type": "markdown",
     "metadata": {},
     "source": [
      "\u4e8c\u5206\u6cd5\u4f30\u7b97\u5f00\u6839\u53f7\u503c\uff0c\u6c42\u51fa\u6574\u6570\u4f4d"
     ]
    },
    {
     "cell_type": "code",
     "collapsed": false,
     "input": [
      "def sqrt_binary(x):\n",
      "    low, high = 0, x/2\n",
      "    while low <= high:\n",
      "        mid = (low + high) / 2\n",
      "        if mid ** 2 == x:\n",
      "            return mid\n",
      "        elif mid ** 2 < x:\n",
      "            low = mid + 0.01\n",
      "        else:\n",
      "            high = mid - 0.01\n",
      "    return high\n",
      "print sqrt_binary(25)"
     ],
     "language": "python",
     "metadata": {},
     "outputs": [
      {
       "output_type": "stream",
       "stream": "stdout",
       "text": [
        "4.99224609375\n"
       ]
      }
     ],
     "prompt_number": 40
    },
    {
     "cell_type": "heading",
     "level": 1,
     "metadata": {},
     "source": [
      "Search Insert Position"
     ]
    },
    {
     "cell_type": "markdown",
     "metadata": {},
     "source": [
      "\u627e\u51fa\u7ed9\u5b9a\u503c\u63d2\u5165\u5230\u5217\u8868\u4e2d\u7684\u4f4d\u7f6e\uff0c\u4e8c\u5206\u67e5\u627e\u627e\u51fa\u4f4d\u7f6e"
     ]
    },
    {
     "cell_type": "code",
     "collapsed": false,
     "input": [
      "def search_position(lst, target):\n",
      "    first, last = 0, len(lst)\n",
      "    found = False\n",
      "    while not found and first <= last:\n",
      "        mid = (first + last) / 2\n",
      "        if target == lst[mid]:\n",
      "            found = True\n",
      "            return mid\n",
      "        else:\n",
      "            if target < lst[mid]:\n",
      "                last = mid - 1\n",
      "            else:\n",
      "                first = mid + 1\n",
      "    return first\n",
      "\n",
      "print search_position([1,3,5,7], 2)\n",
      "print search_position([1,3,5,7], 5)\n",
      "print search_position([1,3,5,7], 0)"
     ],
     "language": "python",
     "metadata": {},
     "outputs": [
      {
       "output_type": "stream",
       "stream": "stdout",
       "text": [
        "1\n",
        "2\n",
        "0\n"
       ]
      }
     ],
     "prompt_number": 12
    },
    {
     "cell_type": "heading",
     "level": 1,
     "metadata": {},
     "source": [
      "Reverse Integer \u9006\u5e8f\u6570\u5b57"
     ]
    },
    {
     "cell_type": "markdown",
     "metadata": {},
     "source": [
      "\u8003\u8651\u6b63\u8d1f\u95ee\u9898\uff0c\u8003\u8651\u6ea2\u51fa\u95ee\u9898"
     ]
    },
    {
     "cell_type": "code",
     "collapsed": false,
     "input": [
      "def reverse_integer(x):\n",
      "    if x == 0:\n",
      "        return 0\n",
      "    negative = False\n",
      "    if x < 0:\n",
      "        negative = True\n",
      "        x = -x\n",
      "    rev = 0\n",
      "    while x > 0:\n",
      "        rev = rev * 10 + x % 10\n",
      "        x /= 10\n",
      "    if rev < 2147483647:\n",
      "        if not negative:\n",
      "            return rev\n",
      "        else:\n",
      "            return -rev\n",
      "    else: # overflow\n",
      "        return 0\n",
      "print reverse_integer(-3454566)"
     ],
     "language": "python",
     "metadata": {},
     "outputs": [
      {
       "output_type": "stream",
       "stream": "stdout",
       "text": [
        "-6654543\n"
       ]
      }
     ],
     "prompt_number": 42
    },
    {
     "cell_type": "heading",
     "level": 1,
     "metadata": {},
     "source": [
      "Majority Element "
     ]
    },
    {
     "cell_type": "markdown",
     "metadata": {},
     "source": [
      "\u51fa\u73b0\u6b21\u6570\u5927\u4e8en/2\u6b21"
     ]
    },
    {
     "cell_type": "code",
     "collapsed": false,
     "input": [
      "def majority_element(num):\n",
      "    if len(num) == 0:\n",
      "        return num[0]\n",
      "    count = len(num) // 2\n",
      "    d = dict.fromkeys(num, 0)\n",
      "    for item in num:\n",
      "        d[item] += 1\n",
      "    result = []\n",
      "    for key, val in d.items():\n",
      "        result.append((val, key))\n",
      "    # largest at end\n",
      "    result.sort()\n",
      "    if result[-1][0] >= count:\n",
      "        return result[-1][1]\n",
      "print majority_element([1,1,2,3])"
     ],
     "language": "python",
     "metadata": {},
     "outputs": [
      {
       "output_type": "stream",
       "stream": "stdout",
       "text": [
        "1\n"
       ]
      }
     ],
     "prompt_number": 14
    },
    {
     "cell_type": "heading",
     "level": 1,
     "metadata": {},
     "source": [
      "Add Binary \u4e8c\u8fdb\u5236\u6570\u5b57\u52a0\u6cd5"
     ]
    },
    {
     "cell_type": "code",
     "collapsed": false,
     "input": [
      "def add_binary(a, b):\n",
      "    # bin(3) = 0b11\n",
      "    # build-in function\n",
      "    return bin(int(a, 2) + int(b, 2))[2:]\n",
      "print add_binary('11', '100')"
     ],
     "language": "python",
     "metadata": {},
     "outputs": [
      {
       "output_type": "stream",
       "stream": "stdout",
       "text": [
        "111\n"
       ]
      }
     ],
     "prompt_number": 17
    },
    {
     "cell_type": "code",
     "collapsed": false,
     "input": [
      "def addBinary(self, a, b):\n",
      "    res, carry, len_a, len_b, i = \"\", 0, len(a), len(b), 0\n",
      "    for i in range(max(len_a, len_b)):\n",
      "        sum = carry\n",
      "        if i < len_a:\n",
      "            sum += int(a[-(i + 1)])\n",
      "        if i < len_b:\n",
      "            sum += int(b[-(i + 1)])\n",
      "        carry = sum / 2\n",
      "        sum = sum % 2\n",
      "        res = \"{0}{1}\".format(sum, res)\n",
      "    if carry == 1:\n",
      "        res = \"1\" + res\n",
      "    return res\n",
      "\n",
      "print add_binary('11','100')"
     ],
     "language": "python",
     "metadata": {},
     "outputs": [
      {
       "output_type": "stream",
       "stream": "stdout",
       "text": [
        "111\n"
       ]
      }
     ],
     "prompt_number": 19
    },
    {
     "cell_type": "heading",
     "level": 1,
     "metadata": {},
     "source": [
      "Sort"
     ]
    },
    {
     "cell_type": "code",
     "collapsed": false,
     "input": [],
     "language": "python",
     "metadata": {},
     "outputs": []
    },
    {
     "cell_type": "heading",
     "level": 2,
     "metadata": {},
     "source": [
      "Insertion Sort List \u5bf9\u94fe\u8868\u8fdb\u884c\u63d2\u5165\u6392\u5e8f"
     ]
    },
    {
     "cell_type": "code",
     "collapsed": false,
     "input": [
      "class ListNode:\n",
      "    def __init__(self, x):\n",
      "        self.val = x\n",
      "        self.next = None\n",
      "\n",
      "def insert_sort_linkedlist(head):\n",
      "    if not head:\n",
      "        return head # empty list\n",
      "    fh = ListNode(0)\n",
      "    fh.next = head\n",
      "    current = head\n",
      "    while current.next:\n",
      "        if current.next.val < current.val:\n",
      "            previous = fh\n",
      "            while previous.next.val < current.next.val:\n",
      "                previous = previous.next\n",
      "            t = current.next\n",
      "            current.next = t.next\n",
      "            t.next = previous.next\n",
      "            previous.next = t\n",
      "        else:\n",
      "            current = current.next\n",
      "    return fh.next"
     ],
     "language": "python",
     "metadata": {},
     "outputs": [],
     "prompt_number": 15
    },
    {
     "cell_type": "code",
     "collapsed": false,
     "input": [],
     "language": "python",
     "metadata": {},
     "outputs": []
    }
   ],
   "metadata": {}
  }
 ]
}