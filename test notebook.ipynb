{
 "worksheets": [
  {
   "cells": [
    {
     "cell_type": "code",
     "metadata": {},
     "outputs": [
      {
       "output_type": "stream",
       "stream": "stdout",
       "text": [
        "Hello Ipython Notebook!\n"
       ]
      }
     ],
     "input": [
      "print 'Hello Ipython Notebook!'"
     ],
     "language": "python",
     "prompt_number": 1
    },
    {
     "cell_type": "code",
     "metadata": {},
     "outputs": [],
     "input": [
      "class MinStack:\n",
      "    def __init__(self):\n",
      "        self.data = []\n",
      "        self.min_data = []\n",
      "    \n",
      "    def push(self,item):\n",
      "        self.data.append(item)\n",
      "        if not self.min_data or item <= self.min_data[-1]:\n",
      "            self.min_data.append(item)\n",
      "    \n",
      "    def pop(self):\n",
      "        if self.data:\n",
      "            if self.min_data[-1] == self.data.pop():\n",
      "                self.min_data.pop()\n",
      "    \n",
      "    def top(self):\n",
      "        if self.data:\n",
      "            return self.data[-1]\n",
      "    \n",
      "    def getMin(self):\n",
      "        if self.min_data:\n",
      "            return self.min_data[-1]"
     ],
     "language": "python",
     "prompt_number": 2
    },
    {
     "cell_type": "code",
     "metadata": {},
     "outputs": [],
     "input": [
      "s = MinStack()\n",
      "s.push(2)\n",
      "s.push(0)\n",
      "s.push(0)\n",
      "s.push(3)"
     ],
     "language": "python",
     "prompt_number": 3
    },
    {
     "cell_type": "code",
     "metadata": {},
     "outputs": [
      {
       "output_type": "pyout",
       "prompt_number": 4,
       "text": [
        "[2, 0, 0, 3]"
       ],
       "metadata": {}
      }
     ],
     "input": [
      "s.data"
     ],
     "language": "python",
     "prompt_number": 4
    },
    {
     "cell_type": "code",
     "metadata": {},
     "outputs": [
      {
       "output_type": "pyout",
       "prompt_number": 5,
       "text": [
        "[2, 0, 0]"
       ],
       "metadata": {}
      }
     ],
     "input": [
      "s.min_data"
     ],
     "language": "python",
     "prompt_number": 5
    },
    {
     "cell_type": "code",
     "metadata": {},
     "outputs": [
      {
       "output_type": "pyout",
       "prompt_number": 6,
       "text": [
        "0"
       ],
       "metadata": {}
      }
     ],
     "input": [
      "s.getMin()"
     ],
     "language": "python",
     "prompt_number": 6
    },
    {
     "cell_type": "code",
     "metadata": {},
     "outputs": [
      {
       "output_type": "pyout",
       "prompt_number": 7,
       "text": [
        "0"
       ],
       "metadata": {}
      }
     ],
     "input": [
      "s.pop()\n",
      "s.getMin()"
     ],
     "language": "python",
     "prompt_number": 7
    },
    {
     "cell_type": "code",
     "metadata": {},
     "outputs": [
      {
       "output_type": "pyout",
       "prompt_number": 8,
       "text": [
        "2"
       ],
       "metadata": {}
      }
     ],
     "input": [
      "s.pop()\n",
      "s.pop()\n",
      "s.getMin()"
     ],
     "language": "python",
     "prompt_number": 8
    },
    {
     "cell_type": "code",
     "metadata": {},
     "outputs": [
      {
       "latex": [
        "$\\sqrt{x^2+y^2}$"
       ],
       "prompt_number": 9,
       "text": [
        "<IPython.core.display.Latex at 0x104170b50>"
       ],
       "metadata": {}
      }
     ],
     "input": [
      "from IPython.display import Latex\n",
      "Latex(r\"$\\sqrt{x^2+y^2}$\")"
     ],
     "language": "python",
     "prompt_number": 9
    },
    {
     "cell_type": "code",
     "metadata": {},
     "outputs": [],
     "input": [
      "def str2int(str):\n",
      "    str = str.strip()\n",
      "    end = \"\"\n",
      "    for id,val in enumerate(str):\n",
      "        if val in ['+','-'] and id == 0:\n",
      "            end += val\n",
      "        elif val.isdigit():\n",
      "            end += val\n",
      "        else:\n",
      "            break\n",
      "    if end in ['+','-']:\n",
      "        end = \"\"\n",
      "    end = int(end) if end else 0\n",
      "    if end > 2147483647:\n",
      "        return 2147483647\n",
      "    if end < -2147483648:\n",
      "        return -2147483648\n",
      "    return end"
     ],
     "language": "python",
     "prompt_number": 1
    },
    {
     "cell_type": "code",
     "metadata": {},
     "outputs": [
      {
       "output_type": "pyout",
       "prompt_number": 5,
       "text": [
        "str"
       ],
       "metadata": {}
      }
     ],
     "input": [
      "s = '  +134145 efew3'\n",
      "type(s)"
     ],
     "language": "python",
     "prompt_number": 5
    },
    {
     "cell_type": "code",
     "metadata": {},
     "outputs": [
      {
       "output_type": "pyout",
       "prompt_number": 6,
       "text": [
        "134145"
       ],
       "metadata": {}
      }
     ],
     "input": [
      "s = str2int(s)\n",
      "s"
     ],
     "language": "python",
     "prompt_number": 6
    },
    {
     "cell_type": "code",
     "metadata": {},
     "outputs": [
      {
       "output_type": "pyout",
       "prompt_number": 4,
       "text": [
        "0"
       ],
       "metadata": {}
      }
     ],
     "input": [
      "s = '  er+324'\n",
      "s = str2int(s)\n",
      "s"
     ],
     "language": "python",
     "prompt_number": 4
    },
    {
     "cell_type": "code",
     "metadata": {},
     "outputs": [],
     "input": [
      "def validParentheses(s):\n",
      "    push_set = ('(','{','[')\n",
      "    pop_set = (')','}',']')\n",
      "    pair = dict(zip(push_set,pop_set))\n",
      "    stack = []\n",
      "    for element in s:\n",
      "        if element in push_set:\n",
      "            stack.append(pair[element])\n",
      "        elif element in pop_set:\n",
      "            if not stack or element != stack.pop():\n",
      "                return False\n",
      "    if not stack:\n",
      "        return True\n",
      "    else:\n",
      "        return False"
     ],
     "language": "python",
     "prompt_number": 17
    },
    {
     "cell_type": "code",
     "metadata": {},
     "outputs": [
      {
       "output_type": "pyout",
       "prompt_number": 18,
       "text": [
        "True"
       ],
       "metadata": {}
      }
     ],
     "input": [
      "s = '{}()'\n",
      "validParentheses(s)"
     ],
     "language": "python",
     "prompt_number": 18
    },
    {
     "cell_type": "code",
     "metadata": {},
     "outputs": [
      {
       "output_type": "pyout",
       "prompt_number": 19,
       "text": [
        "False"
       ],
       "metadata": {}
      }
     ],
     "input": [
      "s = '{9(jjk)'\n",
      "validParentheses(s)"
     ],
     "language": "python",
     "prompt_number": 19
    },
    {
     "cell_type": "code",
     "metadata": {},
     "outputs": [
      {
       "output_type": "pyout",
       "prompt_number": 20,
       "text": [
        "False"
       ],
       "metadata": {}
      }
     ],
     "input": [
      "s = ']'\n",
      "validParentheses(s)"
     ],
     "language": "python",
     "prompt_number": 20
    },
    {
     "cell_type": "code",
     "metadata": {},
     "outputs": [],
     "input": [
      ""
     ],
     "language": "python"
    }
   ]
  }
 ],
 "cells": [],
 "metadata": {
  "name": "",
  "signature": "sha256:a1f305a4b20379a5b2141d0031b140df69cd103bf0312d4c27a34d1813254890"
 },
 "nbformat": 3,
 "nbformat_minor": 0
}