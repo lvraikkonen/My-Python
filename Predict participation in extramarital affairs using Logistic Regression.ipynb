{
 "metadata": {
  "name": "",
  "signature": "sha256:9a0f194b1f47b219579a8278bd1aead233af2c1aecf6b1798638b82c77a3e117"
 },
 "nbformat": 3,
 "nbformat_minor": 0,
 "worksheets": [
  {
   "cells": [
    {
     "cell_type": "heading",
     "level": 1,
     "metadata": {},
     "source": [
      "Background"
     ]
    },
    {
     "cell_type": "markdown",
     "metadata": {},
     "source": [
      "The [affairs dataset](http://statsmodels.sourceforge.net/stable/datasets/generated/fair.html) that comes with [Statsmodels](http://statsmodels.sourceforge.net/). It was derived from a survey of women in 1974 by Redbook magazine, in which married women were asked about their participation in extramarital affairs. More information about the study is available in a [1978 paper](http://fairmodel.econ.yale.edu/rayfair/pdf/1978a200.pdf) from the Journal of Political Economy."
     ]
    },
    {
     "cell_type": "heading",
     "level": 1,
     "metadata": {},
     "source": [
      "Dataset"
     ]
    },
    {
     "cell_type": "markdown",
     "metadata": {},
     "source": [
      "The dataset contains 6366 observations of 9 variables:\n",
      "\n",
      "* `rate_marriage`: woman's rating of her marriage (1 = very poor, 5 = very good)\n",
      "* `age`: woman's age\n",
      "* `yrs_married`: number of years married\n",
      "* `children`: number of children\n",
      "* `religious`: woman's rating of how religious she is (1 = not religious, 4 = strongly religious)\n",
      "* `educ`: level of education (9 = grade school, 12 = high school, 14 = some college, 16 = college graduate, 17 = some graduate school, 20 = advanced degree)\n",
      "* `occupation`: woman's occupation (1 = student, 2 = farming/semi-skilled/unskilled, 3 = \"white collar\", 4 = teacher/nurse/writer/technician/skilled, 5 = managerial/business, 6 = professional with advanced degree)\n",
      "* `occupation_husb`: husband's occupation (same coding as above)\n",
      "* `affairs`: time spent in extra-marital affairs"
     ]
    },
    {
     "cell_type": "heading",
     "level": 1,
     "metadata": {},
     "source": [
      "Import modules"
     ]
    },
    {
     "cell_type": "markdown",
     "metadata": {},
     "source": [
      "Here we use logistic regression in Python with the [scikit-learn module](http://scikit-learn.org/) library."
     ]
    },
    {
     "cell_type": "markdown",
     "metadata": {},
     "source": [
      "![sci-kit learn logo](http://kldavenport.com/scikit-learn-logo.png)"
     ]
    },
    {
     "cell_type": "code",
     "collapsed": false,
     "input": [
      "import numpy as np\n",
      "import pandas as pd\n",
      "import statsmodels.api as sm\n",
      "import matplotlib.pyplot as plt\n",
      "from patsy import dmatrices\n",
      "from sklearn.linear_model import LogisticRegression\n",
      "from sklearn.cross_validation import train_test_split\n",
      "from sklearn import metrics\n",
      "from sklearn.cross_validation import cross_val_score"
     ],
     "language": "python",
     "metadata": {},
     "outputs": [],
     "prompt_number": 2
    },
    {
     "cell_type": "heading",
     "level": 1,
     "metadata": {},
     "source": [
      "Data Pre-processing"
     ]
    },
    {
     "cell_type": "code",
     "collapsed": false,
     "input": [
      "# load dataset\n",
      "data = sm.datasets.fair.load_pandas().data\n",
      "\n",
      "# add hasFair column: 1 for having more than one affairs, 0 for no fair\n",
      "data['hasAffair'] = (data.affairs > 0).astype(int)"
     ],
     "language": "python",
     "metadata": {},
     "outputs": [],
     "prompt_number": 6
    },
    {
     "cell_type": "heading",
     "level": 1,
     "metadata": {},
     "source": [
      "Data Exploration"
     ]
    },
    {
     "cell_type": "code",
     "collapsed": false,
     "input": [
      "data.describe()"
     ],
     "language": "python",
     "metadata": {},
     "outputs": [
      {
       "ename": "NameError",
       "evalue": "name 'data' is not defined",
       "output_type": "pyerr",
       "traceback": [
        "\u001b[1;31m---------------------------------------------------------------------------\u001b[0m\n\u001b[1;31mNameError\u001b[0m                                 Traceback (most recent call last)",
        "\u001b[1;32m<ipython-input-1-efa692752119>\u001b[0m in \u001b[0;36m<module>\u001b[1;34m()\u001b[0m\n\u001b[1;32m----> 1\u001b[1;33m \u001b[0mdata\u001b[0m\u001b[1;33m.\u001b[0m\u001b[0mdescribe\u001b[0m\u001b[1;33m(\u001b[0m\u001b[1;33m)\u001b[0m\u001b[1;33m\u001b[0m\u001b[0m\n\u001b[0m",
        "\u001b[1;31mNameError\u001b[0m: name 'data' is not defined"
       ]
      }
     ],
     "prompt_number": 1
    },
    {
     "cell_type": "code",
     "collapsed": false,
     "input": [
      "data[data.affairs > 0].count()[-2]"
     ],
     "language": "python",
     "metadata": {},
     "outputs": [
      {
       "metadata": {},
       "output_type": "pyout",
       "prompt_number": 19,
       "text": [
        "2053"
       ]
      }
     ],
     "prompt_number": 19
    },
    {
     "cell_type": "markdown",
     "metadata": {},
     "source": [
      "That means in our dataset, 2053 women in 6366 total(32.2%) has extramarital affairs in their marriage."
     ]
    },
    {
     "cell_type": "code",
     "collapsed": false,
     "input": [
      "data.groupby('hasAffair').mean()"
     ],
     "language": "python",
     "metadata": {},
     "outputs": [
      {
       "html": [
        "<div style=\"max-height:1000px;max-width:1500px;overflow:auto;\">\n",
        "<table border=\"1\" class=\"dataframe\">\n",
        "  <thead>\n",
        "    <tr style=\"text-align: right;\">\n",
        "      <th></th>\n",
        "      <th>rate_marriage</th>\n",
        "      <th>age</th>\n",
        "      <th>yrs_married</th>\n",
        "      <th>children</th>\n",
        "      <th>religious</th>\n",
        "      <th>educ</th>\n",
        "      <th>occupation</th>\n",
        "      <th>occupation_husb</th>\n",
        "      <th>affairs</th>\n",
        "    </tr>\n",
        "    <tr>\n",
        "      <th>hasAffair</th>\n",
        "      <th></th>\n",
        "      <th></th>\n",
        "      <th></th>\n",
        "      <th></th>\n",
        "      <th></th>\n",
        "      <th></th>\n",
        "      <th></th>\n",
        "      <th></th>\n",
        "      <th></th>\n",
        "    </tr>\n",
        "  </thead>\n",
        "  <tbody>\n",
        "    <tr>\n",
        "      <th>0</th>\n",
        "      <td> 4.329701</td>\n",
        "      <td> 28.390679</td>\n",
        "      <td>  7.989335</td>\n",
        "      <td> 1.238813</td>\n",
        "      <td> 2.504521</td>\n",
        "      <td> 14.322977</td>\n",
        "      <td> 3.405286</td>\n",
        "      <td> 3.833758</td>\n",
        "      <td> 0.000000</td>\n",
        "    </tr>\n",
        "    <tr>\n",
        "      <th>1</th>\n",
        "      <td> 3.647345</td>\n",
        "      <td> 30.537019</td>\n",
        "      <td> 11.152460</td>\n",
        "      <td> 1.728933</td>\n",
        "      <td> 2.261568</td>\n",
        "      <td> 13.972236</td>\n",
        "      <td> 3.463712</td>\n",
        "      <td> 3.884559</td>\n",
        "      <td> 2.187243</td>\n",
        "    </tr>\n",
        "  </tbody>\n",
        "</table>\n",
        "</div>"
       ],
       "metadata": {},
       "output_type": "pyout",
       "prompt_number": 8,
       "text": [
        "           rate_marriage        age  yrs_married  children  religious  \\\n",
        "hasAffair                                                               \n",
        "0               4.329701  28.390679     7.989335  1.238813   2.504521   \n",
        "1               3.647345  30.537019    11.152460  1.728933   2.261568   \n",
        "\n",
        "                educ  occupation  occupation_husb   affairs  \n",
        "hasAffair                                                    \n",
        "0          14.322977    3.405286         3.833758  0.000000  \n",
        "1          13.972236    3.463712         3.884559  2.187243  "
       ]
      }
     ],
     "prompt_number": 8
    },
    {
     "cell_type": "markdown",
     "metadata": {},
     "source": [
      "We can see that on average, women who have affairs `rate` their marriages lower, which is to be expected"
     ]
    },
    {
     "cell_type": "code",
     "collapsed": false,
     "input": [
      "data.groupby('rate_marriage').mean()"
     ],
     "language": "python",
     "metadata": {},
     "outputs": [
      {
       "html": [
        "<div style=\"max-height:1000px;max-width:1500px;overflow:auto;\">\n",
        "<table border=\"1\" class=\"dataframe\">\n",
        "  <thead>\n",
        "    <tr style=\"text-align: right;\">\n",
        "      <th></th>\n",
        "      <th>age</th>\n",
        "      <th>yrs_married</th>\n",
        "      <th>children</th>\n",
        "      <th>religious</th>\n",
        "      <th>educ</th>\n",
        "      <th>occupation</th>\n",
        "      <th>occupation_husb</th>\n",
        "      <th>affairs</th>\n",
        "      <th>hasAffair</th>\n",
        "    </tr>\n",
        "    <tr>\n",
        "      <th>rate_marriage</th>\n",
        "      <th></th>\n",
        "      <th></th>\n",
        "      <th></th>\n",
        "      <th></th>\n",
        "      <th></th>\n",
        "      <th></th>\n",
        "      <th></th>\n",
        "      <th></th>\n",
        "      <th></th>\n",
        "    </tr>\n",
        "  </thead>\n",
        "  <tbody>\n",
        "    <tr>\n",
        "      <th>1</th>\n",
        "      <td> 33.823232</td>\n",
        "      <td> 13.914141</td>\n",
        "      <td> 2.308081</td>\n",
        "      <td> 2.343434</td>\n",
        "      <td> 13.848485</td>\n",
        "      <td> 3.232323</td>\n",
        "      <td> 3.838384</td>\n",
        "      <td> 1.201671</td>\n",
        "      <td> 0.747475</td>\n",
        "    </tr>\n",
        "    <tr>\n",
        "      <th>2</th>\n",
        "      <td> 30.471264</td>\n",
        "      <td> 10.727011</td>\n",
        "      <td> 1.735632</td>\n",
        "      <td> 2.330460</td>\n",
        "      <td> 13.864943</td>\n",
        "      <td> 3.327586</td>\n",
        "      <td> 3.764368</td>\n",
        "      <td> 1.615745</td>\n",
        "      <td> 0.635057</td>\n",
        "    </tr>\n",
        "    <tr>\n",
        "      <th>3</th>\n",
        "      <td> 30.008056</td>\n",
        "      <td> 10.239174</td>\n",
        "      <td> 1.638469</td>\n",
        "      <td> 2.308157</td>\n",
        "      <td> 14.001007</td>\n",
        "      <td> 3.402820</td>\n",
        "      <td> 3.798590</td>\n",
        "      <td> 1.371281</td>\n",
        "      <td> 0.550856</td>\n",
        "    </tr>\n",
        "    <tr>\n",
        "      <th>4</th>\n",
        "      <td> 28.856601</td>\n",
        "      <td>  8.816905</td>\n",
        "      <td> 1.369536</td>\n",
        "      <td> 2.400981</td>\n",
        "      <td> 14.144514</td>\n",
        "      <td> 3.420161</td>\n",
        "      <td> 3.835861</td>\n",
        "      <td> 0.674837</td>\n",
        "      <td> 0.322926</td>\n",
        "    </tr>\n",
        "    <tr>\n",
        "      <th>5</th>\n",
        "      <td> 28.574702</td>\n",
        "      <td>  8.311662</td>\n",
        "      <td> 1.252794</td>\n",
        "      <td> 2.506334</td>\n",
        "      <td> 14.399776</td>\n",
        "      <td> 3.454918</td>\n",
        "      <td> 3.892697</td>\n",
        "      <td> 0.348174</td>\n",
        "      <td> 0.181446</td>\n",
        "    </tr>\n",
        "  </tbody>\n",
        "</table>\n",
        "</div>"
       ],
       "metadata": {},
       "output_type": "pyout",
       "prompt_number": 9,
       "text": [
        "                     age  yrs_married  children  religious       educ  \\\n",
        "rate_marriage                                                           \n",
        "1              33.823232    13.914141  2.308081   2.343434  13.848485   \n",
        "2              30.471264    10.727011  1.735632   2.330460  13.864943   \n",
        "3              30.008056    10.239174  1.638469   2.308157  14.001007   \n",
        "4              28.856601     8.816905  1.369536   2.400981  14.144514   \n",
        "5              28.574702     8.311662  1.252794   2.506334  14.399776   \n",
        "\n",
        "               occupation  occupation_husb   affairs  hasAffair  \n",
        "rate_marriage                                                    \n",
        "1                3.232323         3.838384  1.201671   0.747475  \n",
        "2                3.327586         3.764368  1.615745   0.635057  \n",
        "3                3.402820         3.798590  1.371281   0.550856  \n",
        "4                3.420161         3.835861  0.674837   0.322926  \n",
        "5                3.454918         3.892697  0.348174   0.181446  "
       ]
      }
     ],
     "prompt_number": 9
    },
    {
     "cell_type": "markdown",
     "metadata": {},
     "source": [
      "`age`, `yrs_married`, and `children` appears to correlate with a declining marriage rating"
     ]
    },
    {
     "cell_type": "heading",
     "level": 2,
     "metadata": {},
     "source": [
      "Data Visualization"
     ]
    },
    {
     "cell_type": "code",
     "collapsed": false,
     "input": [
      "%matplotlib inline\n",
      "\n",
      "# Histogram of Education\n",
      "data.educ.hist()\n",
      "plt.title('Histogram of Education')\n",
      "plt.xlabel('Education Level')\n",
      "plt.ylabel('Frequency')"
     ],
     "language": "python",
     "metadata": {},
     "outputs": [
      {
       "metadata": {},
       "output_type": "pyout",
       "prompt_number": 13,
       "text": [
        "<matplotlib.text.Text at 0x7673890>"
       ]
      },
      {
       "metadata": {},
       "output_type": "display_data",
       "png": "[encoded data removed]",
       "text": [
        "<matplotlib.figure.Figure at 0x7640c10>"
       ]
      }
     ],
     "prompt_number": 13
    },
    {
     "cell_type": "code",
     "collapsed": false,
     "input": [
      "# histogram of marriage rating\n",
      "data.rate_marriage.hist()\n",
      "plt.title('Histogram of Marriage Rating')\n",
      "plt.xlabel('Marriage Rating')\n",
      "plt.ylabel('Frequency')"
     ],
     "language": "python",
     "metadata": {},
     "outputs": [
      {
       "metadata": {},
       "output_type": "pyout",
       "prompt_number": 12,
       "text": [
        "<matplotlib.text.Text at 0x80443f0>"
       ]
      },
      {
       "metadata": {},
       "output_type": "display_data",
       "png": "[encoded data removed]",
       "text": [
        "<matplotlib.figure.Figure at 0x76b0650>"
       ]
      }
     ],
     "prompt_number": 12
    },
    {
     "cell_type": "code",
     "collapsed": false,
     "input": [
      "# barplot of marriage rating grouped by affair (True or False)\n",
      "pd.crosstab(data.rate_marriage, data.hasAffair.astype(bool)).plot(kind='bar')\n",
      "plt.title('Marriage Rating Distribution by Affair Status')\n",
      "plt.xlabel('Marriage Rating')\n",
      "plt.ylabel('Frequency')"
     ],
     "language": "python",
     "metadata": {},
     "outputs": [
      {
       "metadata": {},
       "output_type": "pyout",
       "prompt_number": 14,
       "text": [
        "<matplotlib.text.Text at 0x8425210>"
       ]
      },
      {
       "metadata": {},
       "output_type": "display_data",
       "png": "[encoded data removed]",
       "text": [
        "<matplotlib.figure.Figure at 0x7fef0b0>"
       ]
      }
     ],
     "prompt_number": 14
    },
    {
     "cell_type": "heading",
     "level": 1,
     "metadata": {},
     "source": [
      "Prepare Data for Logistic Regression"
     ]
    },
    {
     "cell_type": "code",
     "collapsed": false,
     "input": [
      "y, X = dmatrices('hasAffair ~ rate_marriage + age + yrs_married + children + \\\n",
      "                  religious + educ + C(occupation) + C(occupation_husb)',\n",
      "                  data, return_type=\"dataframe\")\n",
      "\n",
      "X = X.rename(columns = {'C(occupation)[T.2.0]':'occ_2',\n",
      "                        'C(occupation)[T.3.0]':'occ_3',\n",
      "                        'C(occupation)[T.4.0]':'occ_4',\n",
      "                        'C(occupation)[T.5.0]':'occ_5',\n",
      "                        'C(occupation)[T.6.0]':'occ_6',\n",
      "                        'C(occupation_husb)[T.2.0]':'occ_husb_2',\n",
      "                        'C(occupation_husb)[T.3.0]':'occ_husb_3',\n",
      "                        'C(occupation_husb)[T.4.0]':'occ_husb_4',\n",
      "                        'C(occupation_husb)[T.5.0]':'occ_husb_5',\n",
      "                        'C(occupation_husb)[T.6.0]':'occ_husb_6'})\n",
      "# flatten y into a 1-D array\n",
      "y = np.ravel(y)"
     ],
     "language": "python",
     "metadata": {},
     "outputs": [],
     "prompt_number": 20
    },
    {
     "cell_type": "heading",
     "level": 2,
     "metadata": {},
     "source": [
      "Logistic Regression Algorithm"
     ]
    },
    {
     "cell_type": "markdown",
     "metadata": {},
     "source": [
      "Sigmoid function:\n",
      "$$h_\\theta(x) = g(\\theta^Tx): g(z) = \\frac{1}{1+e^{-z}}$$\n",
      "\n",
      "The logistic regression cost function including regularization (last term) is:\n",
      "\n",
      "$$J(\\theta) = \\frac{1}{m}\\sum\\limits_{i=1}^{m} [-y^{(i)}log(h_\\theta(x^{(i)})-(1 - y^{(i)})log(1 - h_\\theta(x^{(i)}))]+\\frac{\\lambda}{2m}\\sum\\limits_{j=1}^{n}\\theta^2_j$$\n",
      "\n",
      "The gradient of the cost including regularization is:\n",
      "\n",
      "$$\\frac{\\partial{J(\\theta)}}{\\partial{\\theta_j}} = \\frac{1}{m}\\sum\\limits_{i=1}^{m} (h_\\theta(x^{(i)}) - y^{(i)})x_j^{(i)}     \\qquad \\qquad \\qquad   for \\,\\, j=0 $$\n",
      "\n",
      "$$\\frac{\\partial{J(\\theta)}}{\\partial{\\theta_j}} = (\\frac{1}{m}\\sum\\limits_{i=1}^{m} (h_\\theta(x^{(i)}) - y^{(i)})x_j^{(i)}) + \\frac{\\lambda}{m}\\theta_j    \\qquad    for \\,\\, j \\geq 1 $$"
     ]
    },
    {
     "cell_type": "code",
     "collapsed": false,
     "input": [
      "# instantiate a logistic regression model, and fit with X and y\n",
      "model = LogisticRegression()\n",
      "model = model.fit(X, y)\n",
      "\n",
      "# check the accuracy on the training set\n",
      "model.score(X, y)"
     ],
     "language": "python",
     "metadata": {},
     "outputs": [
      {
       "metadata": {},
       "output_type": "pyout",
       "prompt_number": 23,
       "text": [
        "0.72573044297832234"
       ]
      }
     ],
     "prompt_number": 23
    },
    {
     "cell_type": "code",
     "collapsed": false,
     "input": [
      "# what percentage had affairs?\n",
      "y.mean()"
     ],
     "language": "python",
     "metadata": {},
     "outputs": [
      {
       "metadata": {},
       "output_type": "pyout",
       "prompt_number": 24,
       "text": [
        "0.32249450204209867"
       ]
      }
     ],
     "prompt_number": 24
    },
    {
     "cell_type": "markdown",
     "metadata": {},
     "source": [
      "Only 32% of the women had affairs, which means that you could obtain 68% accuracy by always predicting \"no\""
     ]
    },
    {
     "cell_type": "heading",
     "level": 1,
     "metadata": {},
     "source": [
      "Model Evaluation Using a Validation Set"
     ]
    },
    {
     "cell_type": "markdown",
     "metadata": {},
     "source": [
      "So far, we have trained and tested on the same set. Let's instead split the data into a training set and a testing set."
     ]
    },
    {
     "cell_type": "code",
     "collapsed": false,
     "input": [
      "# evaluate the model by splitting into train and test sets\n",
      "X_train, X_test, y_train, y_test = train_test_split(X, y, test_size=0.3, random_state=0)\n",
      "model2 = LogisticRegression()\n",
      "model2.fit(X_train, y_train)"
     ],
     "language": "python",
     "metadata": {},
     "outputs": [
      {
       "metadata": {},
       "output_type": "pyout",
       "prompt_number": 25,
       "text": [
        "LogisticRegression(C=1.0, class_weight=None, dual=False, fit_intercept=True,\n",
        "          intercept_scaling=1, penalty='l2', random_state=None, tol=0.0001)"
       ]
      }
     ],
     "prompt_number": 25
    },
    {
     "cell_type": "markdown",
     "metadata": {},
     "source": [
      "We now need to predict class labels for the test set. We will also generate the class probabilities, just to take a look."
     ]
    },
    {
     "cell_type": "code",
     "collapsed": false,
     "input": [
      "# predict class labels for the test set\n",
      "predicted = model2.predict(X_test)\n",
      "print predicted"
     ],
     "language": "python",
     "metadata": {},
     "outputs": [
      {
       "output_type": "stream",
       "stream": "stdout",
       "text": [
        "[ 1.  0.  0. ...,  0.  0.  0.]\n"
       ]
      }
     ],
     "prompt_number": 26
    },
    {
     "cell_type": "heading",
     "level": 2,
     "metadata": {},
     "source": [
      "Confusion Matrix"
     ]
    },
    {
     "cell_type": "code",
     "collapsed": false,
     "input": [
      "print metrics.confusion_matrix(y_test, predicted)"
     ],
     "language": "python",
     "metadata": {},
     "outputs": [
      {
       "output_type": "stream",
       "stream": "stdout",
       "text": [
        "[[1169  134]\n",
        " [ 382  225]]\n"
       ]
      }
     ],
     "prompt_number": 29
    },
    {
     "cell_type": "code",
     "collapsed": false,
     "input": [
      "print metrics.accuracy_score(y_test, predicted)\n",
      "print metrics.precision_score(y_test, predicted)\n",
      "print metrics.recall_score(y_test, predicted)\n",
      "print metrics.f1_score(y_test, predicted)"
     ],
     "language": "python",
     "metadata": {},
     "outputs": [
      {
       "output_type": "stream",
       "stream": "stdout",
       "text": [
        "0.729842931937\n",
        "0.626740947075\n",
        "0.370675453048\n",
        "0.465838509317\n"
       ]
      }
     ],
     "prompt_number": 28
    },
    {
     "cell_type": "code",
     "collapsed": false,
     "input": [
      "print metrics.classification_report(y_test, predicted)"
     ],
     "language": "python",
     "metadata": {},
     "outputs": [
      {
       "output_type": "stream",
       "stream": "stdout",
       "text": [
        "             precision    recall  f1-score   support\n",
        "\n",
        "        0.0       0.75      0.90      0.82      1303\n",
        "        1.0       0.63      0.37      0.47       607\n",
        "\n",
        "avg / total       0.71      0.73      0.71      1910\n",
        "\n"
       ]
      }
     ],
     "prompt_number": 30
    },
    {
     "cell_type": "markdown",
     "metadata": {},
     "source": [
      "The accuracy is 73%"
     ]
    },
    {
     "cell_type": "heading",
     "level": 1,
     "metadata": {},
     "source": [
      "Predicting the Probability of an Affair"
     ]
    },
    {
     "cell_type": "markdown",
     "metadata": {},
     "source": [
      "Just for fun, let's predict the probability of an affair for a random woman not present in the dataset. She's a 25-year-old teacher who graduated college, has been married for 3 years, has 1 child, rates herself as strongly religious, rates her marriage as fair, and her husband is a farmer."
     ]
    },
    {
     "cell_type": "code",
     "collapsed": false,
     "input": [
      "model2.predict_proba(np.array([1, 0, 0, 1, 0, 0, 1, 0, 0, 0, 0, 3, 25, 3, 1, 4,\n",
      "                              16]))"
     ],
     "language": "python",
     "metadata": {},
     "outputs": [
      {
       "metadata": {},
       "output_type": "pyout",
       "prompt_number": 37,
       "text": [
        "array([[ 0.77301476,  0.22698524]])"
       ]
      }
     ],
     "prompt_number": 37
    },
    {
     "cell_type": "heading",
     "level": 1,
     "metadata": {},
     "source": [
      "Improve the model"
     ]
    },
    {
     "cell_type": "markdown",
     "metadata": {},
     "source": [
      "There are many different ways could be tried in order to improve the model:\n",
      "* create features\n",
      "* removing features\n",
      "* regularization techniques\n",
      "* using a non-linear model"
     ]
    }
   ],
   "metadata": {}
  }
 ]
}