{
 "metadata": {
  "name": "",
  "signature": "sha256:9098ae0c683a3af24fd1e7ffe75461b191c16bfb4b67ddc33c7d85d0cb05d8ca"
 },
 "nbformat": 3,
 "nbformat_minor": 0,
 "worksheets": [
  {
   "cells": [
    {
     "cell_type": "code",
     "collapsed": false,
     "input": [
      "import pymssql"
     ],
     "language": "python",
     "metadata": {},
     "outputs": [],
     "prompt_number": 1
    },
    {
     "cell_type": "code",
     "collapsed": false,
     "input": [
      "# create connection\n",
      "conn = pymssql.connect(host=r'172.31.80.10:51765\\BPSTestNew',user='BIUser',password='!@#qweASD',database='BI',charset=\"UTF-8\")\n",
      "\n",
      "# open cursor (only allow one cursor in 1 connection)\n",
      "cur = conn.cursor(as_dict=True)\n",
      "\n",
      "cur.execute('SELECT * FROM dbo.stgEmployee')\n",
      "row = cur.fetchone()\n",
      "\n",
      "print row\n",
      "\n",
      "conn.close()"
     ],
     "language": "python",
     "metadata": {},
     "outputs": [
      {
       "output_type": "stream",
       "stream": "stdout",
       "text": [
        "{u'company_code': u'V571', u'lead': u'3620', u'mobile': u'', u'employee_code': u'3029', u'sex': u'F', u'email': u'11wu.qian@21vianet.com', u'company_name': u'\\u3010\\u4e0a\\u6d77\\u84dd\\u4e91\\u7f51\\u7edc\\u79d1\\u6280\\u6709\\u9650\\u516c\\u53f8\\u5317\\u4eac\\u5206\\u516c\\u53f8\\u3011V571', u'entry_date': u'2008-11-24', u'employee_name': u'\\u90ac\\u5029', u'ext_number': u'1440', u'fullname': u'CEO\\u529e\\u516c\\u5ba4-CFO\\u529e\\u516c\\u5ba4-\\u8d22\\u52a1\\u4f1a\\u8ba1\\u4e2d\\u5fc3-\\u84dd\\u4e91\\u8d22\\u52a1\\u90e8', u'leadname': u'\\u90a2\\u7855', u'job_name': u'\\u8d22\\u52a1\\u7ecf\\u7406', u'dep_code': u'54'}\n"
       ]
      }
     ],
     "prompt_number": 2
    },
    {
     "cell_type": "code",
     "collapsed": false,
     "input": [
      "print row['fullname']"
     ],
     "language": "python",
     "metadata": {},
     "outputs": [
      {
       "output_type": "stream",
       "stream": "stdout",
       "text": [
        "CEO\u529e\u516c\u5ba4-CFO\u529e\u516c\u5ba4-\u8d22\u52a1\u4f1a\u8ba1\u4e2d\u5fc3-\u84dd\u4e91\u8d22\u52a1\u90e8\n"
       ]
      }
     ],
     "prompt_number": 5
    },
    {
     "cell_type": "code",
     "collapsed": false,
     "input": [
      "print row['employee_name']"
     ],
     "language": "python",
     "metadata": {},
     "outputs": [
      {
       "output_type": "stream",
       "stream": "stdout",
       "text": [
        "\u90ac\u5029\n"
       ]
      }
     ],
     "prompt_number": 10
    },
    {
     "cell_type": "markdown",
     "metadata": {},
     "source": [
      "Frequently asked questions / troubleshooting page\n",
      "Cannot connect to SQL Server.\n",
      "\n",
      "If you can't connect to the SQL Server instance, try the following:\n",
      "by default SQL Server 2005 and newer doesn't accept remote connections, you have to use SQL Server Surface Area Configuration and/or SQL Server Configuration Manager to enable specific protocols and network adapters; don't forget to restart SQL Server after making these changes, \n",
      "\n",
      "if SQL Server is on remote machine, check whether connections are not blocked by any intermediate firewall device, firewall software, antivirus software, or other security facility,\n",
      "\n",
      "if you use pymssql on Linux/*nix with FreeTDS, check that FreeTDS's configuration is ok and that it can be found by pymssql. The easiest way is to test connection using tsql utility which can be found in FreeTDS package.\n",
      "\n",
      "if you use pymssql on Windows and the server is on local machine, you can try the following command from the command prompt:\n",
      "REG ADD HKLM\\Software\\Microsoft\\MSSQLServer\\Client /v SharedMemoryOn /t REG_DWORD /d 1 /f\n",
      "\"Unicode data in a Unicode-only collation or ntext data cannot be sent to clients using DB-Library\" error appears.\n",
      "\n",
      "In SQL 2000 SP4 or newer, SQL 2005 or SQL 2008, if you do a query that returns NTEXT type data, you may encounter the following exception:\n",
      "_mssql.MssqlDatabaseError: SQL Server message 4004, severity 16, state 1, line 1:\n",
      "Unicode data in a Unicode-only collation or ntext data cannot be sent to clients using DB-Library (such as ISQL) or ODBC version 3.7 or earlier. \n",
      "\n",
      "It means that SQL Server is unable to send Unicode data to pymssql, because of shortcomings of DB-Library for C. You have to CAST or CONVERT the data to equivalent NVARCHAR data type, which does not exhibit this behaviour.\n",
      "Column names get silently truncated to 30 characters.\n",
      "\n",
      "The only workaround is to alias column names to something shorter. Thanks Sebastian Auriol for the suggestion.\n",
      "\n",
      "     `SELECT very_very_long_column_name_longer_than_30_characters AS col1`\n",
      "CHAR(n) and VARCHAR(n) strings get truncated to 255 characters.\n",
      "\n",
      "This is known limitation of TDS protocol. You can CAST or CONVERT the data to TEXT data type to workaround this issue.\n",
      "Returned dates are not correct.\n",
      "\n",
      "If you use pymssql on Linux/*nix and you suspect that returned dates are not correct, please read FreeTDS and dates page.\n",
      "Shared object \"libsybdb.so.3\" not found.\n",
      "\n",
      "On Linux/*nix you may encounter the following behaviour:\n",
      ">>> import _mssql\n",
      "Traceback (most recent call last):\n",
      "File \"<stdin>\", line 1, in ?\n",
      "ImportError: Shared object \"libsybdb.so.3\" not found\n",
      "\n",
      "It may mean that FreeTDS library is unavailable, or that dynamic linker is unable to find it. Check that it is installed and that the path to libsybdb.so is in /etc/ld.so.conf file. Then do ldconfig as root to refresh linker database. On Solaris I just set LD_LIBRARY_PATH environment variable to directory with the library just before launching Python.\n",
      "\"DB-Lib error message 20004, severity 9: Read from SQL server failed\" error appears.\n",
      "\n",
      "On Linux/*nix you may encounter the following behaviour:\n",
      ">>> import _mssql\n",
      ">>> c=_mssql.connect('hostname:portnumber','user','pass')\n",
      "Traceback (most recent call last):\n",
      "File \"<stdin>\", line 1, in <module>\n",
      "_mssql.DatabaseException: DB-Lib error message 20004, severity 9:\n",
      "Read from SQL server failed.\n",
      "DB-Lib error message 20014, severity 9:\n",
      "Login incorrect.\n",
      "\n",
      "It may happen when one of the following is true:\n",
      "freetds.conf file cannot be found,\n",
      "tds version in freetds.conf file is not 7.0 or 4.2,\n",
      "any character set is specified in freetds.conf,\n",
      "an unrecognized character set is passed to _mssql.connect() or pymssql.connect() method.\n",
      "\"Login incorrect\" following this error is spurious, real \"Login incorrect\" messages has code=18456 and severity=14.\n",
      "Python on Windows dies with memory access violation error on connect() when incorrect password is given.\n",
      "\n",
      "This may happen if you use different version of ntwdblib.dll than the one included in pymssql package. For example the version 2000.80.2273.0 is unable to handle dberrhandle() callbacks properly, and causes access violation error in err_handler() function on return INT_CANCEL. I have given up after several hours of investigating the issue, and just reverted to previous version of the ntwdblib.dll and error disappeared.\n",
      "\"Not enough storage is available to complete this operation\" error appears.\n",
      "\n",
      "On Windows you may encounter the following behaviour:\n",
      ">>> import _mssql\n",
      ">>> c=_mssql.connect('hostname:portnumber','user','pass')\n",
      "Traceback (most recent call last):\n",
      "File \"<pyshell#1>\", line 1, in -toplevel-\n",
      "File \"E:\\Python24\\Lib\\site-packages\\pymssql.py\", line 310, in connect\n",
      "con = _mssql.connect(dbhost, dbuser, dbpasswd)\n",
      "error: DB-Lib error message 10004, severity 9:\n",
      "Unable to connect: SQL Server is unavailable or does not exist. Invalid connection.\n",
      "Net-Lib error during ConnectionOpen (ParseConnectParams()).\n",
      "Error 14 - Not enough storage is available to complete this operation.\n",
      "\n",
      "This may happen most likely on earlier versions of pymssql. It happens always if you use a colon \":\" to separate hostname from port number. On Windows you should use comma \",\" instead. pymssql 1.0 has a workaround, so you do not have to care about that.\n",
      "More troubleshooting.\n",
      "\n",
      "If the above hasn't covered the problem, please also check Limitations and known issues page. You can also consult FreeTDS troubleshooting page for issues related to the TDS protocol."
     ]
    },
    {
     "cell_type": "code",
     "collapsed": false,
     "input": [],
     "language": "python",
     "metadata": {},
     "outputs": []
    }
   ],
   "metadata": {}
  }
 ]
}