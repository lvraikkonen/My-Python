{
 "metadata": {
  "name": "",
  "signature": "sha256:4100aa513fe5549da0a60d057c114f6238955952f6de85136233f135d56368b6"
 },
 "nbformat": 3,
 "nbformat_minor": 0,
 "worksheets": []
}